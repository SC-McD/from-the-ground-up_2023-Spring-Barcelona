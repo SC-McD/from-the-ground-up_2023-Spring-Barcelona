{
 "cells": [
  {
   "cell_type": "code",
   "execution_count": 1,
   "id": "90ecd054-497a-4b92-8d75-9bda59d1edf1",
   "metadata": {},
   "outputs": [],
   "source": [
    "import bw2data as bd\n",
    "import bw2regional as bwr\n",
    "import bw2calc as bc\n",
    "import bw2io as bi\n",
    "import bw2analyzer as ba\n",
    "from bw_temporalis import TemporalDistribution as TD, TemporalisLCA, supplement_dataframe\n",
    "from bw_temporalis.lcia import characterize_methane, characterize_co2\n",
    "import numpy as np\n",
    "from pathlib import Path"
   ]
  },
  {
   "cell_type": "code",
   "execution_count": 16,
   "id": "93574954-a559-42c4-b50f-4fedc9d99b06",
   "metadata": {},
   "outputs": [
    {
     "name": "stdout",
     "output_type": "stream",
     "text": [
      "Restoring project backup archive - this could take a few minutes...\n"
     ]
    }
   ],
   "source": [
    "RESET = True\n",
    "\n",
    "if RESET:\n",
    "    bi.restore_project_directory(\"/srv/data/projects/ei.tar.gz\", True)"
   ]
  },
  {
   "cell_type": "code",
   "execution_count": 2,
   "id": "46049ab4-8536-41a9-947b-3827bca889a7",
   "metadata": {},
   "outputs": [],
   "source": [
    "bd.projects.set_current(\"ei\")"
   ]
  },
  {
   "cell_type": "code",
   "execution_count": 18,
   "id": "aac15a10-2421-461f-be58-1b44bcd3d1b2",
   "metadata": {},
   "outputs": [
    {
     "data": {
      "text/plain": [
       "Databases dictionary with 2 object(s):\n",
       "\tbiosphere3\n",
       "\tecoinvent-3.9.1-cutoff"
      ]
     },
     "execution_count": 18,
     "metadata": {},
     "output_type": "execute_result"
    }
   ],
   "source": [
    "bd.databases"
   ]
  },
  {
   "cell_type": "code",
   "execution_count": 19,
   "id": "a78982a6-4eeb-4671-9cae-d6fd0dc92565",
   "metadata": {
    "tags": []
   },
   "outputs": [
    {
     "data": {
      "text/plain": [
       "'Water' (cubic meter, None, ('water', 'surface water'))"
      ]
     },
     "execution_count": 19,
     "metadata": {},
     "output_type": "execute_result"
    }
   ],
   "source": [
    "water = bd.get_node(id=3615)\n",
    "water"
   ]
  },
  {
   "cell_type": "code",
   "execution_count": 20,
   "id": "22dbfaf7-4415-4dd1-9297-59ae28c98634",
   "metadata": {},
   "outputs": [
    {
     "data": {
      "text/plain": [
       "'Carbon dioxide, fossil' (kilogram, None, ('air',))"
      ]
     },
     "execution_count": 20,
     "metadata": {},
     "output_type": "execute_result"
    }
   ],
   "source": [
    "co2 = bd.get_node(id=1171)\n",
    "co2"
   ]
  },
  {
   "cell_type": "code",
   "execution_count": 21,
   "id": "e5b03078-5562-4826-8b9a-80c8885515b2",
   "metadata": {},
   "outputs": [
    {
     "data": {
      "text/plain": [
       "'Methane, fossil' (kilogram, None, ('air',))"
      ]
     },
     "execution_count": 21,
     "metadata": {},
     "output_type": "execute_result"
    }
   ],
   "source": [
    "ch4 = bd.get_node(id=1652)\n",
    "ch4"
   ]
  },
  {
   "cell_type": "code",
   "execution_count": 5,
   "id": "1cb17f8e-fb49-46cc-9cde-6ed294b816e5",
   "metadata": {},
   "outputs": [],
   "source": [
    "food = bd.Database(\"food\")\n",
    "food.register()"
   ]
  },
  {
   "cell_type": "code",
   "execution_count": 23,
   "id": "4ae2eee9-2a50-41e0-a463-243bfc5b19da",
   "metadata": {},
   "outputs": [],
   "source": [
    "lemon = food.new_node(\n",
    "    code=\"lemon\",\n",
    "    name=\"lemon\",\n",
    "    location=('regions', 'Granada')\n",
    ")\n",
    "lemon.save()\n",
    "lemon.new_edge(\n",
    "    input=water,\n",
    "    amount=5,\n",
    "    type=\"biosphere\",\n",
    "    temporal_distribution=TD(\n",
    "        np.array([-3, -2, -1, 0, 1], dtype=\"timedelta64[Y]\"),\n",
    "        np.ones(5)\n",
    "    )\n",
    ").save()\n",
    "lemon.new_edge(\n",
    "    input=co2,\n",
    "    amount=0.2,\n",
    "    type=\"biosphere\",\n",
    "    temporal_distribution=TD(\n",
    "        np.array([-1, 0, 1], dtype=\"timedelta64[M]\"),\n",
    "        np.ones(3) * 2/3\n",
    "    )\n",
    ").save()"
   ]
  },
  {
   "cell_type": "code",
   "execution_count": 24,
   "id": "c717ba4c-2a1f-4418-b784-633503155820",
   "metadata": {},
   "outputs": [],
   "source": [
    "mushroom = food.new_node(\n",
    "    code=\"mushroom\",\n",
    "    name=\"mushroom\",\n",
    "    location=('countries', 'Portugal')\n",
    ")\n",
    "mushroom.save()\n",
    "mushroom.new_edge(\n",
    "    input=water,\n",
    "    amount=0.5,\n",
    "    type=\"biosphere\",\n",
    "    temporal_distribution=TD(\n",
    "        np.array([-3, -2, -1], dtype=\"timedelta64[M]\"),\n",
    "        np.ones(3) * 0.5\n",
    "    )    \n",
    ").save()\n",
    "mushroom.new_edge(\n",
    "    input=ch4,\n",
    "    amount=0.05,\n",
    "    type=\"biosphere\",\n",
    "    temporal_distribution=TD(\n",
    "        np.array([-3, -2, -1, 0], dtype=\"timedelta64[M]\"),\n",
    "        np.ones(4) * 0.0125\n",
    "    )    \n",
    ").save()"
   ]
  },
  {
   "cell_type": "code",
   "execution_count": 25,
   "id": "fa26cdd9-c877-4867-b2b2-46715ffc05c1",
   "metadata": {},
   "outputs": [],
   "source": [
    "cheese = food.new_node(\n",
    "    code=\"cheese\",\n",
    "    name=\"cheese\",\n",
    "    location=('countries', 'Spain')\n",
    ")\n",
    "cheese.save()\n",
    "cheese.new_edge(\n",
    "    input=water,\n",
    "    amount=25,\n",
    "    type=\"biosphere\",\n",
    "    temporal_distribution=TD(\n",
    "        np.linspace(-90, -10, 10).astype(\"timedelta64[D]\"),\n",
    "        np.ones(10) * 10/25\n",
    "    )    \n",
    ").save()"
   ]
  },
  {
   "cell_type": "code",
   "execution_count": 26,
   "id": "f821178a-5d27-460f-b3ed-19cb0cb1acc8",
   "metadata": {},
   "outputs": [],
   "source": [
    "rice = food.new_node(\n",
    "    code=\"rice\",\n",
    "    name=\"rice\",\n",
    "    location=('regions', 'Valencia')\n",
    ")\n",
    "rice.save()\n",
    "rice.new_edge(\n",
    "    input=water,\n",
    "    amount=10,\n",
    "    type=\"biosphere\",\n",
    ").save()"
   ]
  },
  {
   "cell_type": "code",
   "execution_count": 27,
   "id": "cd925e9b-634f-4b9a-b744-5e2f92826c09",
   "metadata": {},
   "outputs": [],
   "source": [
    "meal = food.new_node(\n",
    "    code=\"meal\",\n",
    "    name=\"meal\",\n",
    "    location=('cities', '14')\n",
    ")\n",
    "meal.save()\n",
    "meal.new_edge(\n",
    "    input=water,\n",
    "    amount=0.5,\n",
    "    type=\"biosphere\",\n",
    ").save()\n",
    "meal.new_edge(\n",
    "    input=lemon,\n",
    "    amount=0.25,\n",
    "    type=\"technosphere\",\n",
    ").save()\n",
    "meal.new_edge(\n",
    "    input=rice,\n",
    "    amount=1,\n",
    "    type=\"technosphere\",\n",
    ").save()\n",
    "meal.new_edge(\n",
    "    input=mushroom,\n",
    "    amount=0.5,\n",
    "    type=\"technosphere\",\n",
    ").save()\n",
    "meal.new_edge(\n",
    "    input=cheese,\n",
    "    amount=0.1,\n",
    "    type=\"technosphere\",\n",
    ").save()"
   ]
  },
  {
   "cell_type": "code",
   "execution_count": 3,
   "id": "cb7d242e-d695-420a-8638-c3bdaaffb5df",
   "metadata": {},
   "outputs": [],
   "source": [
    "meal = bd.get_node(name=\"meal\")"
   ]
  },
  {
   "cell_type": "code",
   "execution_count": 6,
   "id": "c36fabf3-7c13-4a63-9539-00cd1a4be093",
   "metadata": {},
   "outputs": [],
   "source": [
    "food.set_geocollections()"
   ]
  },
  {
   "cell_type": "code",
   "execution_count": 7,
   "id": "688c685c-59b5-4d02-b287-40dabb4b48bf",
   "metadata": {},
   "outputs": [],
   "source": [
    "ipcc = ('IPCC 2021', 'climate change', 'global warming potential (GWP100)')"
   ]
  },
  {
   "cell_type": "code",
   "execution_count": 8,
   "id": "d115715f-85df-4f2f-9077-51d35d45225f",
   "metadata": {},
   "outputs": [],
   "source": [
    "ei = bd.Database(\"ecoinvent-3.9.1-cutoff\")"
   ]
  },
  {
   "cell_type": "code",
   "execution_count": 43,
   "id": "9455eb67-03ee-4170-929b-22699cf79c52",
   "metadata": {},
   "outputs": [
    {
     "data": {
      "text/plain": [
       "'market for rice, basmati' (kilogram, GLO, None)"
      ]
     },
     "execution_count": 43,
     "metadata": {},
     "output_type": "execute_result"
    }
   ],
   "source": [
    "rice_ei = bd.get_node(name='market for rice, basmati')\n",
    "rice_ei"
   ]
  },
  {
   "cell_type": "code",
   "execution_count": 36,
   "id": "a9e1f6d6-bbb0-4812-839b-f6afe31993e8",
   "metadata": {},
   "outputs": [
    {
     "data": {
      "text/plain": [
       "'cheese production, soft, from cow milk' (kilogram, GLO, None)"
      ]
     },
     "execution_count": 36,
     "metadata": {},
     "output_type": "execute_result"
    }
   ],
   "source": [
    "cheese_ei = bd.get_node(id=17999)\n",
    "cheese_ei"
   ]
  },
  {
   "cell_type": "code",
   "execution_count": 37,
   "id": "676680dd-84b9-4a11-bf45-d46a694a0c04",
   "metadata": {},
   "outputs": [],
   "source": [
    "cheese.new_edge(input=cheese_ei, amount=1, type=\"technosphere\").save()"
   ]
  },
  {
   "cell_type": "code",
   "execution_count": 44,
   "id": "54e857dc-afc7-4229-94b1-59af1fe7fe9c",
   "metadata": {},
   "outputs": [],
   "source": [
    "rice.new_edge(input=rice_ei, amount=1, type=\"technosphere\").save()"
   ]
  },
  {
   "cell_type": "code",
   "execution_count": 58,
   "id": "6a7b9627-3dd9-4482-82ef-2d817d3d6fa9",
   "metadata": {},
   "outputs": [
    {
     "name": "stdout",
     "output_type": "stream",
     "text": [
      "Fraction of score | Absolute score | Amount | Activity\n",
      "0001 | 5.462 |     1 | 'meal' (None, ('cities', '14'), None)\n",
      "  0.626 |  3.42 |     1 | 'rice' (None, ('regions', 'Valencia'), None)\n",
      "    0.626 |  3.42 |     1 | 'market for rice, basmati' (kilogram, GLO, None)\n",
      "      0.448 | 2.445 | 0.7005 | 'rice production, basmati' (kilogram, IN, None)\n",
      "        0.142 | 0.7781 | 6.289 | 'market for irrigation' (cubic meter, IN, None)\n",
      "          0.136 | 0.7408 |  6.18 | 'irrigation, surface' (cubic meter, IN, None)\n",
      "            0.022 | 0.1199 | 1.147 | 'water pump operation, diesel' (megajoule, IN, None)\n",
      "            0.114 | 0.6209 | 1.474 | 'water pump operation, electric' (megajoule, IN, None)\n",
      "              0.111 | 0.6035 | 0.4095 | 'market group for electricity, low voltage' (kilowatt hour, IN, None)\n",
      "        0.0137 | 0.07475 | 0.04336 | 'market for urea' (kilogram, RoW, None)\n",
      "          0.0133 | 0.07273 | 0.04336 | 'urea production' (kilogram, RoW, None)\n",
      "            0.0119 | 0.06496 | 0.02018 | 'market for ammonia, anhydrous, liquid' (kilogram, RoW, None)\n",
      "      0.172 | 0.939 | 0.2995 | 'rice production, basmati' (kilogram, RoW, None)\n",
      "        0.0288 | 0.1573 |  1.75 | 'market for irrigation' (cubic meter, RoW, None)\n",
      "          0.0132 | 0.07226 | 0.4184 | 'irrigation, sprinkler' (cubic meter, RoW, None)\n",
      "          0.0111 | 0.06084 | 1.222 | 'irrigation, surface' (cubic meter, RoW, None)\n",
      "  0.136 | 0.745 |   0.5 | 'mushroom' (None, ('countries', 'Portugal'), None)\n",
      "  0.228 | 1.247 |   0.1 | 'cheese' (None, ('countries', 'Spain'), None)\n",
      "    0.228 | 1.247 |   0.1 | 'cheese production, soft, from cow milk' (kilogram, GLO, None)\n",
      "      0.201 |   1.1 | 0.6748 | 'market for cow milk' (kilogram, GLO, None)\n",
      "        0.182 | 0.9932 | 0.6681 | 'milk production, from cow' (kilogram, RoW, None)\n",
      "          0.0178 | 0.09723 | 0.1431 | 'market for maize grain, feed' (kilogram, RoW, None)\n",
      "            0.0168 | 0.09156 | 0.143 | 'maize grain, feed production' (kilogram, RoW, None)\n",
      "              0.0137 | 0.07477 | 0.1345 | 'market for maize grain' (kilogram, RoW, None)\n",
      "          0.0158 | 0.08613 | 8.147e-05 | 'market for operation, housing system, cattle, tied, per animal unit' (unit, GLO, None)\n",
      "            0.0157 | 0.08588 | 8.074e-05 | 'operation, housing system, cattle, tied' (unit, RoW, None)\n",
      "          0.0365 | 0.1991 | 0.06537 | 'market for soybean, feed' (kilogram, GLO, None)\n",
      "            0.036 | 0.1965 | 0.06537 | 'soybean, feed production' (kilogram, RoW, None)\n",
      "              0.0278 | 0.152 | 0.03793 | 'market for soybean' (kilogram, RoW, None)\n"
     ]
    }
   ],
   "source": [
    "ba.print_recursive_calculation(meal, ipcc, max_level=7)"
   ]
  },
  {
   "cell_type": "code",
   "execution_count": 54,
   "id": "c48c5971-490c-4404-acbe-c02a9d6aea5d",
   "metadata": {},
   "outputs": [],
   "source": [
    "rpb = bd.get_node(name='rice production, basmati', location='IN')"
   ]
  },
  {
   "cell_type": "code",
   "execution_count": 56,
   "id": "fe093a60-c692-413d-a152-12fbe24f1aa9",
   "metadata": {},
   "outputs": [],
   "source": [
    "for ds in ei:\n",
    "    if ds['name'] == 'rice production, basmati':\n",
    "        for exc in ds.technosphere():\n",
    "            if exc.input['name'] == 'market for irrigation':\n",
    "                exc['temporal_distribution'] = TD(\n",
    "                    np.linspace(-90, 0, 50).astype(\"timedelta64[D]\"),\n",
    "                    exc['amount'] / 50 * np.ones(50)\n",
    "                )\n",
    "                exc.save()"
   ]
  },
  {
   "cell_type": "code",
   "execution_count": 57,
   "id": "7e9c0ffc-0046-4b9a-bc86-1d1b801f7f43",
   "metadata": {},
   "outputs": [],
   "source": [
    "for ds in ei:\n",
    "    if ds['name'] == 'market for irrigation':\n",
    "        for exc in ds.technosphere():\n",
    "            if exc.input['name'] == 'irrigation, surface':\n",
    "                exc['temporal_distribution'] = TD(\n",
    "                    np.linspace(-10, 10, 5).astype(\"timedelta64[D]\"),\n",
    "                    exc['amount'] / 5 * np.ones(5)\n",
    "                )\n",
    "                exc.save()"
   ]
  },
  {
   "cell_type": "code",
   "execution_count": 62,
   "id": "d72242ad-efe8-453d-804d-773309dacaa6",
   "metadata": {},
   "outputs": [],
   "source": [
    "for ds in ei:\n",
    "    if ds['name'] == 'rice production, basmati':\n",
    "        for exc in ds.biosphere():\n",
    "            if exc['name'] == 'Carbon dioxide, in air':\n",
    "                exc['temporal_distribution'] = TD(\n",
    "                    np.linspace(-120, 30, 20).astype(\"timedelta64[D]\"),\n",
    "                    exc['amount'] / 20 * np.ones(20)\n",
    "                )\n",
    "                exc.save()   \n",
    "            elif exc['name'] == 'Carbon dioxide, fossil':\n",
    "                exc['temporal_distribution'] = TD(\n",
    "                    np.linspace(20, 0, 4).astype(\"timedelta64[D]\"),\n",
    "                    exc['amount'] / 4 * np.ones(4)\n",
    "                )\n",
    "                exc.save()   "
   ]
  },
  {
   "cell_type": "code",
   "execution_count": 9,
   "id": "099a265a-f593-4bf1-8ec1-352fcd7573e7",
   "metadata": {},
   "outputs": [],
   "source": [
    "lca = bc.LCA({meal: 1}, ipcc)\n",
    "lca.lci()\n",
    "lca.lcia()"
   ]
  },
  {
   "cell_type": "code",
   "execution_count": 10,
   "id": "aa4a1c18-ec53-4e58-ab52-979997d588ed",
   "metadata": {},
   "outputs": [
    {
     "name": "stdout",
     "output_type": "stream",
     "text": [
      "Starting graph traversal\n",
      "Calculation count: 32\n"
     ]
    }
   ],
   "source": [
    "tlca = TemporalisLCA(lca)"
   ]
  },
  {
   "cell_type": "code",
   "execution_count": 11,
   "id": "6251f1ec-fecc-4800-9d5b-7b53b2956ff5",
   "metadata": {},
   "outputs": [],
   "source": [
    "tl = tlca.build_timeline()"
   ]
  },
  {
   "cell_type": "code",
   "execution_count": 12,
   "id": "ed5946d2-2039-4f15-9b72-341cd96fe071",
   "metadata": {},
   "outputs": [],
   "source": [
    "tl.build_dataframe()"
   ]
  },
  {
   "cell_type": "code",
   "execution_count": 13,
   "id": "523be1b0-6556-47dd-a275-a6ad35d36cc2",
   "metadata": {},
   "outputs": [
    {
     "data": {
      "text/html": [
       "<div>\n",
       "<style scoped>\n",
       "    .dataframe tbody tr th:only-of-type {\n",
       "        vertical-align: middle;\n",
       "    }\n",
       "\n",
       "    .dataframe tbody tr th {\n",
       "        vertical-align: top;\n",
       "    }\n",
       "\n",
       "    .dataframe thead th {\n",
       "        text-align: right;\n",
       "    }\n",
       "</style>\n",
       "<table border=\"1\" class=\"dataframe\">\n",
       "  <thead>\n",
       "    <tr style=\"text-align: right;\">\n",
       "      <th></th>\n",
       "      <th>date</th>\n",
       "      <th>amount</th>\n",
       "      <th>flow</th>\n",
       "      <th>activity</th>\n",
       "      <th>location</th>\n",
       "      <th>name</th>\n",
       "      <th>location_activity</th>\n",
       "      <th>name_activity</th>\n",
       "    </tr>\n",
       "  </thead>\n",
       "  <tbody>\n",
       "    <tr>\n",
       "      <th>0</th>\n",
       "      <td>2023-01-17</td>\n",
       "      <td>1.285823e-08</td>\n",
       "      <td>4688</td>\n",
       "      <td>6279</td>\n",
       "      <td>NaN</td>\n",
       "      <td>NaN</td>\n",
       "      <td>NaN</td>\n",
       "      <td>NaN</td>\n",
       "    </tr>\n",
       "    <tr>\n",
       "      <th>1</th>\n",
       "      <td>2023-01-17</td>\n",
       "      <td>3.389682e-04</td>\n",
       "      <td>1171</td>\n",
       "      <td>6279</td>\n",
       "      <td>NaN</td>\n",
       "      <td>NaN</td>\n",
       "      <td>NaN</td>\n",
       "      <td>NaN</td>\n",
       "    </tr>\n",
       "    <tr>\n",
       "      <th>2</th>\n",
       "      <td>2023-01-19</td>\n",
       "      <td>1.285823e-08</td>\n",
       "      <td>4688</td>\n",
       "      <td>6279</td>\n",
       "      <td>NaN</td>\n",
       "      <td>NaN</td>\n",
       "      <td>NaN</td>\n",
       "      <td>NaN</td>\n",
       "    </tr>\n",
       "    <tr>\n",
       "      <th>3</th>\n",
       "      <td>2023-01-19</td>\n",
       "      <td>3.389682e-04</td>\n",
       "      <td>1171</td>\n",
       "      <td>6279</td>\n",
       "      <td>NaN</td>\n",
       "      <td>NaN</td>\n",
       "      <td>NaN</td>\n",
       "      <td>NaN</td>\n",
       "    </tr>\n",
       "    <tr>\n",
       "      <th>4</th>\n",
       "      <td>2023-01-21</td>\n",
       "      <td>1.285823e-08</td>\n",
       "      <td>4688</td>\n",
       "      <td>6279</td>\n",
       "      <td>NaN</td>\n",
       "      <td>NaN</td>\n",
       "      <td>NaN</td>\n",
       "      <td>NaN</td>\n",
       "    </tr>\n",
       "    <tr>\n",
       "      <th>...</th>\n",
       "      <td>...</td>\n",
       "      <td>...</td>\n",
       "      <td>...</td>\n",
       "      <td>...</td>\n",
       "      <td>...</td>\n",
       "      <td>...</td>\n",
       "      <td>...</td>\n",
       "      <td>...</td>\n",
       "    </tr>\n",
       "    <tr>\n",
       "      <th>222</th>\n",
       "      <td>2023-05-07</td>\n",
       "      <td>3.389682e-04</td>\n",
       "      <td>1171</td>\n",
       "      <td>6279</td>\n",
       "      <td>NaN</td>\n",
       "      <td>NaN</td>\n",
       "      <td>NaN</td>\n",
       "      <td>NaN</td>\n",
       "    </tr>\n",
       "    <tr>\n",
       "      <th>223</th>\n",
       "      <td>2023-05-07</td>\n",
       "      <td>1.285823e-08</td>\n",
       "      <td>4688</td>\n",
       "      <td>6279</td>\n",
       "      <td>NaN</td>\n",
       "      <td>NaN</td>\n",
       "      <td>NaN</td>\n",
       "      <td>NaN</td>\n",
       "    </tr>\n",
       "    <tr>\n",
       "      <th>224</th>\n",
       "      <td>2023-05-10</td>\n",
       "      <td>7.943952e-03</td>\n",
       "      <td>1168</td>\n",
       "      <td>4780</td>\n",
       "      <td>NaN</td>\n",
       "      <td>NaN</td>\n",
       "      <td>NaN</td>\n",
       "      <td>NaN</td>\n",
       "    </tr>\n",
       "    <tr>\n",
       "      <th>225</th>\n",
       "      <td>2023-05-17</td>\n",
       "      <td>7.943952e-03</td>\n",
       "      <td>1168</td>\n",
       "      <td>4780</td>\n",
       "      <td>NaN</td>\n",
       "      <td>NaN</td>\n",
       "      <td>NaN</td>\n",
       "      <td>NaN</td>\n",
       "    </tr>\n",
       "    <tr>\n",
       "      <th>226</th>\n",
       "      <td>2023-05-27</td>\n",
       "      <td>1.666667e-01</td>\n",
       "      <td>1171</td>\n",
       "      <td>25948</td>\n",
       "      <td>NaN</td>\n",
       "      <td>NaN</td>\n",
       "      <td>(regions, Granada)</td>\n",
       "      <td>lemon</td>\n",
       "    </tr>\n",
       "  </tbody>\n",
       "</table>\n",
       "<p>227 rows × 8 columns</p>\n",
       "</div>"
      ],
      "text/plain": [
       "          date        amount  flow  activity location name   \n",
       "0   2023-01-17  1.285823e-08  4688      6279      NaN  NaN  \\\n",
       "1   2023-01-17  3.389682e-04  1171      6279      NaN  NaN   \n",
       "2   2023-01-19  1.285823e-08  4688      6279      NaN  NaN   \n",
       "3   2023-01-19  3.389682e-04  1171      6279      NaN  NaN   \n",
       "4   2023-01-21  1.285823e-08  4688      6279      NaN  NaN   \n",
       "..         ...           ...   ...       ...      ...  ...   \n",
       "222 2023-05-07  3.389682e-04  1171      6279      NaN  NaN   \n",
       "223 2023-05-07  1.285823e-08  4688      6279      NaN  NaN   \n",
       "224 2023-05-10  7.943952e-03  1168      4780      NaN  NaN   \n",
       "225 2023-05-17  7.943952e-03  1168      4780      NaN  NaN   \n",
       "226 2023-05-27  1.666667e-01  1171     25948      NaN  NaN   \n",
       "\n",
       "      location_activity name_activity  \n",
       "0                   NaN           NaN  \n",
       "1                   NaN           NaN  \n",
       "2                   NaN           NaN  \n",
       "3                   NaN           NaN  \n",
       "4                   NaN           NaN  \n",
       "..                  ...           ...  \n",
       "222                 NaN           NaN  \n",
       "223                 NaN           NaN  \n",
       "224                 NaN           NaN  \n",
       "225                 NaN           NaN  \n",
       "226  (regions, Granada)         lemon  \n",
       "\n",
       "[227 rows x 8 columns]"
      ]
     },
     "execution_count": 13,
     "metadata": {},
     "output_type": "execute_result"
    }
   ],
   "source": [
    "supplement_dataframe(tl.df, \"food\")"
   ]
  },
  {
   "cell_type": "code",
   "execution_count": 14,
   "id": "5db1dcae-249b-455c-a4a1-b12588c9adf4",
   "metadata": {},
   "outputs": [
    {
     "data": {
      "text/html": [
       "<div>\n",
       "<style scoped>\n",
       "    .dataframe tbody tr th:only-of-type {\n",
       "        vertical-align: middle;\n",
       "    }\n",
       "\n",
       "    .dataframe tbody tr th {\n",
       "        vertical-align: top;\n",
       "    }\n",
       "\n",
       "    .dataframe thead th {\n",
       "        text-align: right;\n",
       "    }\n",
       "</style>\n",
       "<table border=\"1\" class=\"dataframe\">\n",
       "  <thead>\n",
       "    <tr style=\"text-align: right;\">\n",
       "      <th></th>\n",
       "      <th>date</th>\n",
       "      <th>amount</th>\n",
       "      <th>flow</th>\n",
       "      <th>activity</th>\n",
       "      <th>location</th>\n",
       "      <th>name</th>\n",
       "      <th>unit</th>\n",
       "      <th>location_activity</th>\n",
       "      <th>name_activity</th>\n",
       "      <th>unit_activity</th>\n",
       "    </tr>\n",
       "  </thead>\n",
       "  <tbody>\n",
       "    <tr>\n",
       "      <th>0</th>\n",
       "      <td>2023-01-17</td>\n",
       "      <td>1.285823e-08</td>\n",
       "      <td>4688</td>\n",
       "      <td>6279</td>\n",
       "      <td>NaN</td>\n",
       "      <td>NaN</td>\n",
       "      <td>NaN</td>\n",
       "      <td>IN</td>\n",
       "      <td>water pump operation, diesel</td>\n",
       "      <td>megajoule</td>\n",
       "    </tr>\n",
       "    <tr>\n",
       "      <th>1</th>\n",
       "      <td>2023-01-17</td>\n",
       "      <td>3.389682e-04</td>\n",
       "      <td>1171</td>\n",
       "      <td>6279</td>\n",
       "      <td>NaN</td>\n",
       "      <td>NaN</td>\n",
       "      <td>NaN</td>\n",
       "      <td>IN</td>\n",
       "      <td>water pump operation, diesel</td>\n",
       "      <td>megajoule</td>\n",
       "    </tr>\n",
       "    <tr>\n",
       "      <th>2</th>\n",
       "      <td>2023-01-19</td>\n",
       "      <td>1.285823e-08</td>\n",
       "      <td>4688</td>\n",
       "      <td>6279</td>\n",
       "      <td>NaN</td>\n",
       "      <td>NaN</td>\n",
       "      <td>NaN</td>\n",
       "      <td>IN</td>\n",
       "      <td>water pump operation, diesel</td>\n",
       "      <td>megajoule</td>\n",
       "    </tr>\n",
       "    <tr>\n",
       "      <th>3</th>\n",
       "      <td>2023-01-19</td>\n",
       "      <td>3.389682e-04</td>\n",
       "      <td>1171</td>\n",
       "      <td>6279</td>\n",
       "      <td>NaN</td>\n",
       "      <td>NaN</td>\n",
       "      <td>NaN</td>\n",
       "      <td>IN</td>\n",
       "      <td>water pump operation, diesel</td>\n",
       "      <td>megajoule</td>\n",
       "    </tr>\n",
       "    <tr>\n",
       "      <th>4</th>\n",
       "      <td>2023-01-21</td>\n",
       "      <td>1.285823e-08</td>\n",
       "      <td>4688</td>\n",
       "      <td>6279</td>\n",
       "      <td>NaN</td>\n",
       "      <td>NaN</td>\n",
       "      <td>NaN</td>\n",
       "      <td>IN</td>\n",
       "      <td>water pump operation, diesel</td>\n",
       "      <td>megajoule</td>\n",
       "    </tr>\n",
       "    <tr>\n",
       "      <th>...</th>\n",
       "      <td>...</td>\n",
       "      <td>...</td>\n",
       "      <td>...</td>\n",
       "      <td>...</td>\n",
       "      <td>...</td>\n",
       "      <td>...</td>\n",
       "      <td>...</td>\n",
       "      <td>...</td>\n",
       "      <td>...</td>\n",
       "      <td>...</td>\n",
       "    </tr>\n",
       "    <tr>\n",
       "      <th>222</th>\n",
       "      <td>2023-05-07</td>\n",
       "      <td>3.389682e-04</td>\n",
       "      <td>1171</td>\n",
       "      <td>6279</td>\n",
       "      <td>NaN</td>\n",
       "      <td>NaN</td>\n",
       "      <td>NaN</td>\n",
       "      <td>IN</td>\n",
       "      <td>water pump operation, diesel</td>\n",
       "      <td>megajoule</td>\n",
       "    </tr>\n",
       "    <tr>\n",
       "      <th>223</th>\n",
       "      <td>2023-05-07</td>\n",
       "      <td>1.285823e-08</td>\n",
       "      <td>4688</td>\n",
       "      <td>6279</td>\n",
       "      <td>NaN</td>\n",
       "      <td>NaN</td>\n",
       "      <td>NaN</td>\n",
       "      <td>IN</td>\n",
       "      <td>water pump operation, diesel</td>\n",
       "      <td>megajoule</td>\n",
       "    </tr>\n",
       "    <tr>\n",
       "      <th>224</th>\n",
       "      <td>2023-05-10</td>\n",
       "      <td>7.943952e-03</td>\n",
       "      <td>1168</td>\n",
       "      <td>4780</td>\n",
       "      <td>NaN</td>\n",
       "      <td>NaN</td>\n",
       "      <td>NaN</td>\n",
       "      <td>IN</td>\n",
       "      <td>rice production, basmati</td>\n",
       "      <td>kilogram</td>\n",
       "    </tr>\n",
       "    <tr>\n",
       "      <th>225</th>\n",
       "      <td>2023-05-17</td>\n",
       "      <td>7.943952e-03</td>\n",
       "      <td>1168</td>\n",
       "      <td>4780</td>\n",
       "      <td>NaN</td>\n",
       "      <td>NaN</td>\n",
       "      <td>NaN</td>\n",
       "      <td>IN</td>\n",
       "      <td>rice production, basmati</td>\n",
       "      <td>kilogram</td>\n",
       "    </tr>\n",
       "    <tr>\n",
       "      <th>226</th>\n",
       "      <td>2023-05-27</td>\n",
       "      <td>1.666667e-01</td>\n",
       "      <td>1171</td>\n",
       "      <td>25948</td>\n",
       "      <td>NaN</td>\n",
       "      <td>NaN</td>\n",
       "      <td>NaN</td>\n",
       "      <td>NaN</td>\n",
       "      <td>NaN</td>\n",
       "      <td>NaN</td>\n",
       "    </tr>\n",
       "  </tbody>\n",
       "</table>\n",
       "<p>227 rows × 10 columns</p>\n",
       "</div>"
      ],
      "text/plain": [
       "          date        amount  flow  activity location name unit   \n",
       "0   2023-01-17  1.285823e-08  4688      6279      NaN  NaN  NaN  \\\n",
       "1   2023-01-17  3.389682e-04  1171      6279      NaN  NaN  NaN   \n",
       "2   2023-01-19  1.285823e-08  4688      6279      NaN  NaN  NaN   \n",
       "3   2023-01-19  3.389682e-04  1171      6279      NaN  NaN  NaN   \n",
       "4   2023-01-21  1.285823e-08  4688      6279      NaN  NaN  NaN   \n",
       "..         ...           ...   ...       ...      ...  ...  ...   \n",
       "222 2023-05-07  3.389682e-04  1171      6279      NaN  NaN  NaN   \n",
       "223 2023-05-07  1.285823e-08  4688      6279      NaN  NaN  NaN   \n",
       "224 2023-05-10  7.943952e-03  1168      4780      NaN  NaN  NaN   \n",
       "225 2023-05-17  7.943952e-03  1168      4780      NaN  NaN  NaN   \n",
       "226 2023-05-27  1.666667e-01  1171     25948      NaN  NaN  NaN   \n",
       "\n",
       "    location_activity                 name_activity unit_activity  \n",
       "0                  IN  water pump operation, diesel     megajoule  \n",
       "1                  IN  water pump operation, diesel     megajoule  \n",
       "2                  IN  water pump operation, diesel     megajoule  \n",
       "3                  IN  water pump operation, diesel     megajoule  \n",
       "4                  IN  water pump operation, diesel     megajoule  \n",
       "..                ...                           ...           ...  \n",
       "222                IN  water pump operation, diesel     megajoule  \n",
       "223                IN  water pump operation, diesel     megajoule  \n",
       "224                IN      rice production, basmati      kilogram  \n",
       "225                IN      rice production, basmati      kilogram  \n",
       "226               NaN                           NaN           NaN  \n",
       "\n",
       "[227 rows x 10 columns]"
      ]
     },
     "execution_count": 14,
     "metadata": {},
     "output_type": "execute_result"
    }
   ],
   "source": [
    "supplement_dataframe(tl.df, \"ecoinvent-3.9.1-cutoff\")"
   ]
  },
  {
   "cell_type": "code",
   "execution_count": 15,
   "id": "cfb15104-7339-44ed-ade4-98a583e918e3",
   "metadata": {},
   "outputs": [
    {
     "data": {
      "text/plain": [
       "<Axes: xlabel='date', ylabel='amount'>"
      ]
     },
     "execution_count": 15,
     "metadata": {},
     "output_type": "execute_result"
    },
    {
     "data": {
      "image/png": "[encoded data removed]",
      "text/plain": [
       "<Figure size 640x480 with 1 Axes>"
      ]
     },
     "metadata": {},
     "output_type": "display_data"
    }
   ],
   "source": [
    "tl.df.plot(x=\"date\", y=\"amount\", kind=\"scatter\")"
   ]
  },
  {
   "cell_type": "code",
   "execution_count": 16,
   "id": "c921a84c-858d-43a7-907d-fe7d565df020",
   "metadata": {},
   "outputs": [
    {
     "data": {
      "text/plain": [
       "{'Carbon dioxide, fossil',\n",
       " 'Carbon dioxide, from soil or biomass stock',\n",
       " 'Carbon dioxide, in air',\n",
       " 'Carbon dioxide, non-fossil',\n",
       " 'Carbon dioxide, non-fossil, resource correction',\n",
       " 'Carbon dioxide, to soil or biomass stock'}"
      ]
     },
     "execution_count": 16,
     "metadata": {},
     "output_type": "execute_result"
    }
   ],
   "source": [
    "{x['name'] for x in bd.Database(\"biosphere3\").search(\"carbon dioxide\")}"
   ]
  },
  {
   "cell_type": "code",
   "execution_count": 17,
   "id": "1bf41c5c-1ee6-4c7d-ac20-864172a6c925",
   "metadata": {},
   "outputs": [],
   "source": [
    "carbon_dioxides = {x.id for x in bd.Database(\"biosphere3\") if x['name'] in ('Carbon dioxide, fossil', 'Carbon dioxide, from soil or biomass stock')}"
   ]
  },
  {
   "cell_type": "code",
   "execution_count": 18,
   "id": "26372b18-99c1-418b-b0d6-72ebd4e268ee",
   "metadata": {},
   "outputs": [],
   "source": [
    "characterized_df_co2 = tl.characterize_dataframe(\n",
    "    characterization_function=characterize_co2, \n",
    "    flow=carbon_dioxides,\n",
    ")"
   ]
  },
  {
   "cell_type": "code",
   "execution_count": 19,
   "id": "e27daa56-f4fd-4f3c-abc6-4744393c0f98",
   "metadata": {},
   "outputs": [
    {
     "data": {
      "text/plain": [
       "<Axes: xlabel='date'>"
      ]
     },
     "execution_count": 19,
     "metadata": {},
     "output_type": "execute_result"
    },
    {
     "data": {
      "image/png": "[encoded data removed]",
      "text/plain": [
       "<Figure size 640x480 with 1 Axes>"
      ]
     },
     "metadata": {},
     "output_type": "display_data"
    }
   ],
   "source": [
    "characterized_df_co2.plot(x=\"date\", y=\"amount_sum\")"
   ]
  },
  {
   "cell_type": "code",
   "execution_count": null,
   "id": "d65a6410-100a-4276-8795-ad1cc77b1a8d",
   "metadata": {},
   "outputs": [],
   "source": []
  }
 ],
 "metadata": {
  "kernelspec": {
   "display_name": "Python [conda env:regional]",
   "language": "python",
   "name": "conda-env-regional-py"
  },
  "language_info": {
   "codemirror_mode": {
    "name": "ipython",
    "version": 3
   },
   "file_extension": ".py",
   "mimetype": "text/x-python",
   "name": "python",
   "nbconvert_exporter": "python",
   "pygments_lexer": "ipython3",
   "version": "3.10.10"
  }
 },
 "nbformat": 4,
 "nbformat_minor": 5
}
