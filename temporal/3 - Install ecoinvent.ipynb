{
 "cells": [
  {
   "cell_type": "code",
   "execution_count": null,
   "id": "fc32999e-2c45-4dcf-83bb-44f01271a78e",
   "metadata": {},
   "outputs": [],
   "source": [
    "import bw2data as bd\n",
    "import bw2calc as bc\n",
    "import bw2io as bi\n",
    "from bw_graph_tools import GraphTraversal\n",
    "from bw_temporalis import TemporalisLCA\n",
    "from bw_temporalis.lcia import characterize_methane, characterize_co2"
   ]
  },
  {
   "cell_type": "code",
   "execution_count": null,
   "id": "aa2e878e",
   "metadata": {},
   "outputs": [],
   "source": [
    "RESET = True"
   ]
  },
  {
   "cell_type": "code",
   "execution_count": null,
   "id": "cc18da29",
   "metadata": {},
   "outputs": [],
   "source": [
    "if PROJECT_NAME in bd.projects and RESET:\n",
    "    bd.projects.delete_project(PROJECT_NAME, True) "
   ]
  },
  {
   "cell_type": "code",
   "execution_count": null,
   "id": "4c080fef-1b4b-445d-8e2b-5699eaf373a5",
   "metadata": {},
   "outputs": [],
   "source": [
    "bi.remote.install_project(\"ecoinvent-3.9.1-biosphere\", \"ei\")"
   ]
  },
  {
   "cell_type": "code",
   "execution_count": null,
   "id": "7906ea50-3103-4636-9f69-672b5b65c40f",
   "metadata": {},
   "outputs": [],
   "source": [
    "bd.projects.set_current(\"ei\")"
   ]
  },
  {
   "cell_type": "code",
   "execution_count": null,
   "id": "754f8e22-0a7c-4c27-a43a-463686657614",
   "metadata": {},
   "outputs": [],
   "source": [
    "imp = bi.SingleOutputEcospold2Importer(\n",
    "    \"/srv/data/ecoinvent/ecoinvent-3.9.1-cutoff/datasets\", \n",
    "    \"ecoinvent-3.9.1-cutoff\"\n",
    ")\n",
    "imp.apply_strategies()\n",
    "assert imp.all_linked\n",
    "imp.write_database()"
   ]
  },
  {
   "cell_type": "code",
   "execution_count": null,
   "id": "5bf19fc0-4e6d-42ef-951e-f58d1699d90e",
   "metadata": {},
   "outputs": [],
   "source": [
    "ipcc = ('IPCC 2021', 'climate change', 'global warming potential (GWP100)')"
   ]
  },
  {
   "cell_type": "code",
   "execution_count": null,
   "id": "6b6ed7da-fc5c-49d1-9395-fc8073a312c3",
   "metadata": {},
   "outputs": [],
   "source": [
    "ei = bd.Database(\"ecoinvent-3.9.1-cutoff\")"
   ]
  },
  {
   "cell_type": "code",
   "execution_count": null,
   "id": "8dbc9a07-a2e0-4ea6-a486-24015aaec807",
   "metadata": {},
   "outputs": [],
   "source": [
    "ei.search(\"brick\")"
   ]
  },
  {
   "cell_type": "code",
   "execution_count": null,
   "id": "af29cca1-1e95-4910-90ff-b33216f94d7d",
   "metadata": {},
   "outputs": [],
   "source": [
    "brick = bd.get_node(name='market for light clay brick')"
   ]
  },
  {
   "cell_type": "code",
   "execution_count": null,
   "id": "db4e8b7e-ed64-46ae-9047-402202f3c281",
   "metadata": {},
   "outputs": [],
   "source": [
    "lca = bc.LCA({brick: 1}, ipcc)\n",
    "lca.lci()\n",
    "lca.lcia()"
   ]
  },
  {
   "cell_type": "code",
   "execution_count": null,
   "id": "7634b523-8fcc-41e5-929f-63a1628ce1b0",
   "metadata": {},
   "outputs": [],
   "source": [
    "assert lca.score"
   ]
  }
 ],
 "metadata": {
  "kernelspec": {
   "display_name": "Python [conda env:regional]",
   "language": "python",
   "name": "conda-env-regional-py"
  },
  "language_info": {
   "codemirror_mode": {
    "name": "ipython",
    "version": 3
   },
   "file_extension": ".py",
   "mimetype": "text/x-python",
   "name": "python",
   "nbconvert_exporter": "python",
   "pygments_lexer": "ipython3",
   "version": "3.10.10"
  }
 },
 "nbformat": 4,
 "nbformat_minor": 5
}
