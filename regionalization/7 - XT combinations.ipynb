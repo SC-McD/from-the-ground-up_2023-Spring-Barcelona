{
 "cells": [
  {
   "cell_type": "code",
   "execution_count": null,
   "id": "90ecd054-497a-4b92-8d75-9bda59d1edf1",
   "metadata": {},
   "outputs": [],
   "source": [
    "import bw2data as bd\n",
    "import bw2regional as bwr\n",
    "from pathlib import Path"
   ]
  },
  {
   "cell_type": "code",
   "execution_count": null,
   "id": "67bd9eec-a961-4b05-9adc-5d25f78bac1d",
   "metadata": {},
   "outputs": [],
   "source": [
    "PROJECT_NAME = \"Spain case study\""
   ]
  },
  {
   "cell_type": "code",
   "execution_count": null,
   "id": "46049ab4-8536-41a9-947b-3827bca889a7",
   "metadata": {},
   "outputs": [],
   "source": [
    "bd.projects.set_current(PROJECT_NAME)"
   ]
  },
  {
   "cell_type": "code",
   "execution_count": null,
   "id": "c9d2f5d2-c536-4167-8a4f-a532174ea782",
   "metadata": {},
   "outputs": [],
   "source": [
    "ls data"
   ]
  },
  {
   "cell_type": "code",
   "execution_count": null,
   "id": "39036d73-2397-4038-96bd-062b8fe992df",
   "metadata": {},
   "outputs": [],
   "source": [
    "data_dir = Path.cwd().absolute() / \"data\"\n",
    "assert data_dir.is_dir()"
   ]
  },
  {
   "cell_type": "code",
   "execution_count": null,
   "id": "dbb5c58e-46ab-450f-b2a1-bc5d7334aea6",
   "metadata": {},
   "outputs": [],
   "source": [
    "bwr.geocollections['popdensity'] = {'filepath': str(data_dir / 'gpw_v4_population_density.tif')}"
   ]
  },
  {
   "cell_type": "code",
   "execution_count": null,
   "id": "82285d52-95ae-4081-842d-ca939325356a",
   "metadata": {},
   "outputs": [],
   "source": [
    "CROPS = ['cereals', 'citrus', 'rice', 'potatoe']\n",
    "PLACES = ['cities', 'countries', 'regions']"
   ]
  },
  {
   "cell_type": "code",
   "execution_count": null,
   "id": "a99180e6-7919-4388-80d8-1c028300d055",
   "metadata": {},
   "outputs": [],
   "source": [
    "for crop in CROPS:\n",
    "    for place in PLACES:\n",
    "        bwr.calculate_needed_intersections({meal: 1}, (\"water stress\",), f'{place}-water-stress - {crop}')"
   ]
  },
  {
   "cell_type": "code",
   "execution_count": null,
   "id": "f96829f6-aaa9-4701-bb8a-e683c412d809",
   "metadata": {},
   "outputs": [],
   "source": [
    "if 'cities-water-stress - popdensity' not in bwr.extension_tables:\n",
    "    bwr.raster_as_extension_table('cities-water-stress', 'popdensity', engine='rasterstats')\n",
    "if 'regions-water-stress - popdensity' not in bwr.extension_tables:\n",
    "    bwr.raster_as_extension_table('regions-water-stress', 'popdensity', engine='rasterstats')\n",
    "if 'countries-water-stress - popdensity' not in bwr.extension_tables:\n",
    "    bwr.raster_as_extension_table('countries-water-stress', 'popdensity', engine='rasterstats')    "
   ]
  },
  {
   "cell_type": "code",
   "execution_count": null,
   "id": "fc50d740-67a7-4fd6-8db9-6fc31ebf2711",
   "metadata": {},
   "outputs": [],
   "source": [
    "meal = bd.get_node(name=\"meal\")\n",
    "lemon = bd.get_node(name=\"lemon\")\n",
    "rice = bd.get_node(name=\"rice\")\n",
    "mushroom = bd.get_node(name=\"mushroom\")\n",
    "cheese = bd.get_node(name=\"cheese\")"
   ]
  },
  {
   "cell_type": "code",
   "execution_count": null,
   "id": "3caa102a-ccfb-45cf-9ab6-7e01926f68d8",
   "metadata": {},
   "outputs": [],
   "source": [
    "lca = bwr.ExtensionTablesLCA(\n",
    "    demand={meal: 1},\n",
    "    method=(\"water stress\",),\n",
    "    xtable='regions-water-stress - rice',\n",
    "    limitations={\n",
    "        'activities': [rice.id],\n",
    "        'mode': 'include'\n",
    "    },    \n",
    ")\n",
    "lca.lci()\n",
    "lca.lcia()"
   ]
  },
  {
   "cell_type": "code",
   "execution_count": null,
   "id": "1aa4b2a3-5e0f-4fe5-8b73-5430813333ed",
   "metadata": {},
   "outputs": [],
   "source": [
    "lca.score"
   ]
  },
  {
   "cell_type": "code",
   "execution_count": null,
   "id": "b8f660b5-d1c1-4e5b-8b2a-764a64cff5d5",
   "metadata": {
    "tags": []
   },
   "outputs": [],
   "source": [
    "lca.geodataframe_xtable_spatial_scale().explore(column='score_rel')"
   ]
  },
  {
   "cell_type": "code",
   "execution_count": null,
   "id": "8a5593b0-8c6e-4c99-8a16-945080b5bef8",
   "metadata": {},
   "outputs": [],
   "source": [
    "configuration = [\n",
    "    {\n",
    "        'xt': 'regions-water-stress - rice',\n",
    "        'activities': [rice.id],\n",
    "        'mode': 'include'\n",
    "    },\n",
    "    {\n",
    "        'xt': 'regions-water-stress - citrus',\n",
    "        'activities': [lemon.id],\n",
    "        'mode': 'include'\n",
    "    },\n",
    "    {\n",
    "        'xt': 'cities-water-stress - popdensity',\n",
    "        'activities': [meal.id],\n",
    "        'mode': 'include'\n",
    "    },\n",
    "    {\n",
    "        'xt': 'countries-water-stress - popdensity',\n",
    "        'activities': [mushroom.id, cheese.id],\n",
    "        'mode': 'include'\n",
    "    },\n",
    "]"
   ]
  },
  {
   "cell_type": "code",
   "execution_count": null,
   "id": "f733cf4f-b41d-4f63-a111-c44b4c36c18d",
   "metadata": {},
   "outputs": [],
   "source": [
    "matrix = None"
   ]
  },
  {
   "cell_type": "code",
   "execution_count": null,
   "id": "76719c58-8404-409d-978a-a7cfc27c5544",
   "metadata": {},
   "outputs": [],
   "source": [
    "for conf in configuration:\n",
    "    lca = bwr.ExtensionTablesLCA(\n",
    "        demand={meal: 1},\n",
    "        method=(\"water stress\",),\n",
    "        xtable=conf['xt'],\n",
    "        limitations={\n",
    "            'activities': conf['activities'],\n",
    "            'mode': conf['mode']\n",
    "        },    \n",
    "    )\n",
    "    lca.lci()\n",
    "    lca.lcia()\n",
    "    \n",
    "    if matrix is None:\n",
    "        matrix = lca.characterized_inventory\n",
    "    else:\n",
    "        matrix += lca.characterized_inventory"
   ]
  },
  {
   "cell_type": "code",
   "execution_count": null,
   "id": "eb7a67f5-6dff-4372-93ba-e92db31bed3d",
   "metadata": {},
   "outputs": [],
   "source": [
    "matrix.todense()"
   ]
  },
  {
   "cell_type": "code",
   "execution_count": null,
   "id": "404bafe1-36b9-4cda-b789-20bb5d5fd1a9",
   "metadata": {},
   "outputs": [],
   "source": []
  }
 ],
 "metadata": {
  "kernelspec": {
   "display_name": "Python [conda env:regional]",
   "language": "python",
   "name": "conda-env-regional-py"
  },
  "language_info": {
   "codemirror_mode": {
    "name": "ipython",
    "version": 3
   },
   "file_extension": ".py",
   "mimetype": "text/x-python",
   "name": "python",
   "nbconvert_exporter": "python",
   "pygments_lexer": "ipython3",
   "version": "3.10.10"
  }
 },
 "nbformat": 4,
 "nbformat_minor": 5
}
