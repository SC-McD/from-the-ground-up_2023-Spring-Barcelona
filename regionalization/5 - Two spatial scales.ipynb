{
 "cells": [
  {
   "cell_type": "code",
   "execution_count": null,
   "id": "90ecd054-497a-4b92-8d75-9bda59d1edf1",
   "metadata": {},
   "outputs": [],
   "source": [
    "import bw2data as bd\n",
    "import bw2calc as bc\n",
    "import bw2regional as bwr\n",
    "from pathlib import Path"
   ]
  },
  {
   "cell_type": "code",
   "execution_count": null,
   "id": "67bd9eec-a961-4b05-9adc-5d25f78bac1d",
   "metadata": {},
   "outputs": [],
   "source": [
    "PROJECT_NAME = \"Spain case study\""
   ]
  },
  {
   "cell_type": "code",
   "execution_count": null,
   "id": "46049ab4-8536-41a9-947b-3827bca889a7",
   "metadata": {},
   "outputs": [],
   "source": [
    "bd.projects.set_current(PROJECT_NAME)"
   ]
  },
  {
   "cell_type": "code",
   "execution_count": null,
   "id": "8f01f275-465c-4336-97fe-171eaeea3c8f",
   "metadata": {},
   "outputs": [],
   "source": [
    "meal = bd.get_node(name=\"meal\")"
   ]
  },
  {
   "cell_type": "code",
   "execution_count": null,
   "id": "3ca539e4-a544-416f-bfbb-79e2ba3adc13",
   "metadata": {},
   "outputs": [],
   "source": [
    "h2o = bd.get_node(name=\"water\")"
   ]
  },
  {
   "cell_type": "code",
   "execution_count": null,
   "id": "da3ce969-af51-428a-88f1-a30c10c705a2",
   "metadata": {},
   "outputs": [],
   "source": [
    "water_stress = bd.Method((\"water stress\",))\n",
    "water_stress.register()"
   ]
  },
  {
   "cell_type": "code",
   "execution_count": null,
   "id": "db0f1c6b-1e50-4584-9391-a1a5ebc02800",
   "metadata": {},
   "outputs": [],
   "source": [
    "bwr.import_regionalized_cfs(\n",
    "    'water-stress',\n",
    "    (\"water stress\",),\n",
    "    {\"ws2038cr\": [h2o.key]},\n",
    "    nan_value=-1,\n",
    ")"
   ]
  },
  {
   "cell_type": "code",
   "execution_count": null,
   "id": "22fad255-0554-4540-9973-8bb4e30d4df0",
   "metadata": {},
   "outputs": [],
   "source": [
    "bwr.calculate_needed_intersections({meal: 1}, (\"water stress\",))"
   ]
  },
  {
   "cell_type": "code",
   "execution_count": null,
   "id": "38305027-f471-4f68-be43-73cf8a5e52a0",
   "metadata": {},
   "outputs": [],
   "source": [
    "bwr.intersections"
   ]
  },
  {
   "cell_type": "code",
   "execution_count": null,
   "id": "26014fee-d7e4-424e-9c66-ac897ac10d12",
   "metadata": {},
   "outputs": [],
   "source": [
    "lca = bwr.TwoSpatialScalesLCA({meal: 1}, (\"water stress\",))\n",
    "lca.lci()\n",
    "lca.lcia()"
   ]
  },
  {
   "cell_type": "code",
   "execution_count": null,
   "id": "75a0e8c3-ab22-4cf1-957a-3a787d9529be",
   "metadata": {},
   "outputs": [],
   "source": [
    "lca.score"
   ]
  },
  {
   "cell_type": "code",
   "execution_count": null,
   "id": "e81c40b5-03ec-4ff3-91ec-f4b95100b003",
   "metadata": {},
   "outputs": [],
   "source": [
    "lca.geodataframe_ia_spatial_scale()"
   ]
  },
  {
   "cell_type": "code",
   "execution_count": null,
   "id": "d1e49137-18b5-4b88-aa45-652b0232fabe",
   "metadata": {},
   "outputs": [],
   "source": [
    "lca.geodataframe_ia_spatial_scale().explore(column='score_rel')"
   ]
  },
  {
   "cell_type": "code",
   "execution_count": null,
   "id": "9ee21dff-7d54-431c-abcf-fc1a87cd482e",
   "metadata": {},
   "outputs": [],
   "source": []
  }
 ],
 "metadata": {
  "kernelspec": {
   "display_name": "Python [conda env:regional]",
   "language": "python",
   "name": "conda-env-regional-py"
  },
  "language_info": {
   "codemirror_mode": {
    "name": "ipython",
    "version": 3
   },
   "file_extension": ".py",
   "mimetype": "text/x-python",
   "name": "python",
   "nbconvert_exporter": "python",
   "pygments_lexer": "ipython3",
   "version": "3.10.10"
  }
 },
 "nbformat": 4,
 "nbformat_minor": 5
}
