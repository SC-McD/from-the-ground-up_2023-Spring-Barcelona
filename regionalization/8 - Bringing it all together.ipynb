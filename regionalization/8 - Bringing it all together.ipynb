{
 "cells": [
  {
   "cell_type": "markdown",
   "id": "451c0373-31b1-488c-8669-aaecfa454926",
   "metadata": {},
   "source": [
    "# Bringing it all together\n",
    "\n",
    "Let's do two exercises to incorporate the introductory and the regionalization aspects together.\n",
    "\n",
    "## Exercise 1\n",
    "\n",
    "Add a new ingredient to your meal; if that inventory isn't in a great state, you can use the default meal using the code below.\n",
    "\n",
    "You will need to add sunflower seeds or oil, with a water input. Look at the extension table data to find a suitable (more or less reasonable) location.\n",
    "\n",
    "Then, add the extension table raster `sunflowers.tiff` from the `data` folder. See notebook 1 on how to create a geocollection and notebook 6 on how to import extension tables (you only need the function `bwr.raster_as_extension_table()`, but it will be run multiple times).\n",
    "\n",
    "Finally, copy and modify the configuration in notebook 7 to include your new extension table, and run your new LCA.\n",
    "\n",
    "## Exercise 2\n",
    "\n",
    "Make the following changes to your meal database.\n",
    "\n",
    "In a **combinatorial** datapackage (**A**), add the following:\n",
    "\n",
    "* Create two scenarios for the location of one ingredient, \n",
    "* Create two scenarios for that same ingredient, varying the amount of water consumed\n",
    "\n",
    "In another datapackage (**B**):\n",
    "\n",
    "Create new node (use the `id` 1000000); this will be \"Eating the meal\". We will create this node **only in the datapackage**. Create an input of 1 `meal`, but add significant uncertainty.\n",
    "\n",
    "In the definition of your foreground inventory (i.e. in the database, not in a new datapackage), add uncertainty to at least two other ingredients which haven't been otherwise modified. This uncertainty can be on the edges where this ingredient is consumed, or on the edges where this ingredient consumes water or some other input.\n",
    "\n",
    "Similarly, load the LCIA impact category `(\"water stress\",)`, and change each characterization factor to a normal distribution with the mean having the same amount as before, but the $\\sigma$ having a value of 0.1. Make sure you set both `amount` and `loc`. So this impact category is usable in both static and stochastic calculations.\n",
    "\n",
    "Finally, pick a location being used by one of your water-consuming activities, and create a new datapackage (**C**) with 1000 possible values of the characterization factor in that region. This is a little tricky, there is an example of something similar below.\n",
    "\n",
    "After you have made all these changes, do a LCA of this new system **using only the population density extension table** for all activities. This is because it isn't yet so easy to get the same values under Monte Carlo when creating multiple regionalized LCA instances.\n",
    "\n",
    "If you are up for a real challenge, you can try to use multiple extensions tables for the respective ingredients as before. You will need to precompute (i.e. as before with a separate LCA class instance each time) and save copies of the following matrices **for each activity limitations possibility**, and then after each Monte Carlo iteration replace the values in the `LCA` class **for each activity limitations possibility**, summing the total.\n",
    "\n",
    "* `LCA.inv_mapping_matrix`\n",
    "* `LCA.distribution_normalization_matrix`\n",
    "* `LCA.distribution_matrix`\n",
    "* `LCA.xtable_matrix`\n",
    "\n",
    "There are some hints below on how to create and use the datapackages in combination with your LCA class. Please make sure that the order of **A**, **B**, and **C** is correct, if they ave values that conflict with each other (otherwise it doesn't matter). The last one will take precendence, unless you chose to [override the default policies](https://github.com/brightway-lca/bw_processing#policies)."
   ]
  },
  {
   "cell_type": "code",
   "execution_count": null,
   "id": "a31fda29-8ef5-4886-86ac-969268b7bc6b",
   "metadata": {},
   "outputs": [],
   "source": [
    "import bw2io as bi"
   ]
  },
  {
   "cell_type": "markdown",
   "id": "f53cc58c-b249-498d-a365-5e7aa097cf85",
   "metadata": {},
   "source": [
    "This project archive also available at [file.brightway.dev](https://files.brightway.dev/meal.tar.gz)."
   ]
  },
  {
   "cell_type": "code",
   "execution_count": null,
   "id": "cd8a6ff9-a0ef-4e57-b516-756efe2b2696",
   "metadata": {},
   "outputs": [],
   "source": [
    "bi.restore_project_directory(\"/srv/data/projects/meal.tar.gz\", overwrite_existing=True)"
   ]
  },
  {
   "cell_type": "markdown",
   "id": "86044ebe-04a0-483c-90e9-a3022493de9d",
   "metadata": {},
   "source": [
    "Here is an example of using a datapackage in regionalized LCA:"
   ]
  },
  {
   "cell_type": "code",
   "execution_count": null,
   "id": "04fa5bba-a329-4d3d-982a-d71b73433335",
   "metadata": {},
   "outputs": [],
   "source": [
    "import bw2data as bd\n",
    "import bw2regional as bwr\n",
    "import bw_processing as bwp\n",
    "import numpy as np"
   ]
  },
  {
   "cell_type": "code",
   "execution_count": null,
   "id": "ff39cd4a-edd4-436e-8ab4-1406cf2bfbe0",
   "metadata": {},
   "outputs": [],
   "source": [
    "PROJECT_NAME = \"Spain case study\""
   ]
  },
  {
   "cell_type": "code",
   "execution_count": null,
   "id": "46049ab4-8536-41a9-947b-3827bca889a7",
   "metadata": {},
   "outputs": [],
   "source": [
    "bd.projects.set_current(PROJECT_NAME)"
   ]
  },
  {
   "cell_type": "code",
   "execution_count": null,
   "id": "8f01f275-465c-4336-97fe-171eaeea3c8f",
   "metadata": {},
   "outputs": [],
   "source": [
    "meal = bd.get_node(name=\"meal\")"
   ]
  },
  {
   "cell_type": "code",
   "execution_count": null,
   "id": "3ca539e4-a544-416f-bfbb-79e2ba3adc13",
   "metadata": {},
   "outputs": [],
   "source": [
    "h2o = bd.get_node(name=\"water\")"
   ]
  },
  {
   "cell_type": "code",
   "execution_count": null,
   "id": "39743e83-a7f3-4573-abb7-ef830a5515d2",
   "metadata": {},
   "outputs": [],
   "source": [
    "reg_cfs = bd.Method((\"water stress\",)).load()"
   ]
  },
  {
   "cell_type": "code",
   "execution_count": null,
   "id": "75055ecb-6896-44e5-b10c-53f7db9e53a8",
   "metadata": {},
   "outputs": [],
   "source": [
    "reg_cfs[:10]"
   ]
  },
  {
   "cell_type": "code",
   "execution_count": null,
   "id": "fdf60c94-bce9-4ca1-a053-1b3550817f33",
   "metadata": {},
   "outputs": [],
   "source": [
    "big_numbers = bwp.create_datapackage()"
   ]
  },
  {
   "cell_type": "markdown",
   "id": "dd7ae6d2-045b-4d1b-a239-912faa6af76b",
   "metadata": {},
   "source": [
    "We will write big numbers for our characterization factors. This is mostly just to test to make sure that we can do what we are trying to do.\n",
    "\n",
    "We need to change the `characterization_matrix`. This matrix is a bit tricky, see the [documentation](https://github.com/brightway-lca/brightway2-regional/blob/70a37c2804243d0d0d50ce208d892a5af281b122/bw2regional/lca/base_class.py#L120). Our first index will be the elementary flow, our second index will be the location. We need to look up the *integer id* of the locations; we do this using `bw2data.geomapping`."
   ]
  },
  {
   "cell_type": "code",
   "execution_count": null,
   "id": "0afc1893-2144-4350-8d5c-1319e7d94f06",
   "metadata": {},
   "outputs": [],
   "source": [
    "indices = np.array(\n",
    "    [(h2o.id, bd.geomapping[z]) for _, _, z in reg_cfs],\n",
    "    dtype=bwp.INDICES_DTYPE\n",
    ")"
   ]
  },
  {
   "cell_type": "code",
   "execution_count": null,
   "id": "8d308a68-1921-4650-80ce-33b0812d1e32",
   "metadata": {},
   "outputs": [],
   "source": [
    "big_numbers.add_persistent_vector(\n",
    "    matrix='characterization_matrix',\n",
    "    indices_array=indices,\n",
    "    data_array=np.random.normal(loc=1000, scale=100, size=len(indices)),\n",
    ")"
   ]
  },
  {
   "cell_type": "code",
   "execution_count": null,
   "id": "02343fcd-0340-4f2e-9696-54baa789dcc2",
   "metadata": {},
   "outputs": [],
   "source": [
    "lca = bwr.TwoSpatialScalesLCA({meal: 1}, (\"water stress\",), extra_data_objs=[big_numbers])\n",
    "lca.lci()\n",
    "lca.lcia()\n",
    "lca.score"
   ]
  }
 ],
 "metadata": {
  "kernelspec": {
   "display_name": "Python [conda env:regional]",
   "language": "python",
   "name": "conda-env-regional-py"
  },
  "language_info": {
   "codemirror_mode": {
    "name": "ipython",
    "version": 3
   },
   "file_extension": ".py",
   "mimetype": "text/x-python",
   "name": "python",
   "nbconvert_exporter": "python",
   "pygments_lexer": "ipython3",
   "version": "3.10.10"
  }
 },
 "nbformat": 4,
 "nbformat_minor": 5
}
