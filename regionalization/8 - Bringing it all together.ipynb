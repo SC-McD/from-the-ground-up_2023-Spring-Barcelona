{
 "cells": [
  {
   "cell_type": "markdown",
   "id": "451c0373-31b1-488c-8669-aaecfa454926",
   "metadata": {},
   "source": [
    "# Bringing it all together\n",
    "\n",
    "Let's do two exercises to incorporate the introductory and the regionalization aspects together.\n",
    "\n",
    "## Exercise 1\n",
    "\n",
    "Add a new ingredient to your meal; if that inventory isn't in a great state, you can use the default meal using the code below.\n",
    "\n",
    "You will need to add sunflower seeds or oil, with a water input. Look at the extension table data to find a suitable (more or less reasonable) location.\n",
    "\n",
    "Then, add the extension table raster `sunflowers.tiff` from the `data` folder. See notebook 1 on how to create a geocollection and notebook 6 on how to import extension tables (you only need the function `bwr.raster_as_extension_table()`, but it will be run multiple times).\n",
    "\n",
    "Finally, copy and modify the configuration in notebook 7 to include your new extension table, and run your new LCA.\n",
    "\n",
    "## Exercise 2\n",
    "\n",
    "Make the following changes to your meal database.\n",
    "\n",
    "In a **combinatorial** datapackage (**A**), add the following:\n",
    "\n",
    "* Create two scenarios for the location of one ingredient, \n",
    "* Create two scenarios for that same ingredient, varying the amount of water consumed\n",
    "\n",
    "In another datapackage (**B**):\n",
    "\n",
    "Create new node (use the `id` 1000000); this will be \"Eating the meal\". We will create this node **only in the datapackage**. Create an input of 1 `meal`, but add significant uncertainty.\n",
    "\n",
    "In the definition of your foreground inventory (i.e. in the database, not in a new datapackage), add uncertainty to at least two other ingredients which haven't been otherwise modified. This uncertainty can be on the edges where this ingredient is consumed, or on the edges where this ingredient consumes water or some other input.\n",
    "\n",
    "Similarly, load the LCIA impact category `(\"water stress\",)`, and change each characterization factor to a normal distribution with the mean having the same amount as before, but the $\\sigma$ having a value of 0.1. Make sure you set both `amount` and `loc`. So this impact category is usable in both static and stochastic calculations.\n",
    "\n",
    "Finally, pick a location being used by one of your water-consuming activities, and create a new datapackage (**C**) with 1000 possible values of the characterization factor in that region.\n",
    "\n",
    "After you have made all these changes, do a LCA of this new system **using only the population density extension table** for all activities. This is because it isn't yet so easy to get the same values under Monte Carlo when creating multiple regionalized LCA instances.\n",
    "\n",
    "If you are up for a real challenge, you can try to use multiple extensions tables for the respective ingredients as before. You will need to precompute (i.e. as before with a separate LCA class instance each time) and save copies of the following matrices **for each activity limitations possibility**, and then after each Monte Carlo iteration replace the values in the `LCA` class **for each activity limitations possibility**, summing the total.\n",
    "\n",
    "* `LCA.inv_mapping_matrix`\n",
    "* `LCA.distribution_normalization_matrix`\n",
    "* `LCA.distribution_matrix`\n",
    "* `LCA.xtable_matrix`\n",
    "\n",
    "When creating the datapackages"
   ]
  },
  {
   "cell_type": "code",
   "execution_count": null,
   "id": "a31fda29-8ef5-4886-86ac-969268b7bc6b",
   "metadata": {},
   "outputs": [],
   "source": [
    "import bw2io as bi"
   ]
  },
  {
   "cell_type": "code",
   "execution_count": null,
   "id": "cd8a6ff9-a0ef-4e57-b516-756efe2b2696",
   "metadata": {},
   "outputs": [],
   "source": [
    "bi.restore_project_directory(\"/srv/data/projects/meal.tar.gz\", overwrite_existing=True)"
   ]
  }
 ],
 "metadata": {
  "kernelspec": {
   "display_name": "Python [conda env:regional]",
   "language": "python",
   "name": "conda-env-regional-py"
  },
  "language_info": {
   "codemirror_mode": {
    "name": "ipython",
    "version": 3
   },
   "file_extension": ".py",
   "mimetype": "text/x-python",
   "name": "python",
   "nbconvert_exporter": "python",
   "pygments_lexer": "ipython3",
   "version": "3.10.10"
  }
 },
 "nbformat": 4,
 "nbformat_minor": 5
}
