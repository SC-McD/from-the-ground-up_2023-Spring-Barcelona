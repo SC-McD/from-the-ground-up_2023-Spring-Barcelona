{
 "cells": [
  {
   "cell_type": "code",
   "execution_count": null,
   "id": "90ecd054-497a-4b92-8d75-9bda59d1edf1",
   "metadata": {},
   "outputs": [],
   "source": [
    "import bw2data as bd\n",
    "import bw2calc as bc"
   ]
  },
  {
   "cell_type": "code",
   "execution_count": null,
   "id": "67bd9eec-a961-4b05-9adc-5d25f78bac1d",
   "metadata": {},
   "outputs": [],
   "source": [
    "PROJECT_NAME = \"Spain case study\""
   ]
  },
  {
   "cell_type": "code",
   "execution_count": null,
   "id": "46049ab4-8536-41a9-947b-3827bca889a7",
   "metadata": {},
   "outputs": [],
   "source": [
    "bd.projects.set_current(PROJECT_NAME)"
   ]
  },
  {
   "cell_type": "code",
   "execution_count": null,
   "id": "8f01f275-465c-4336-97fe-171eaeea3c8f",
   "metadata": {},
   "outputs": [],
   "source": [
    "meal = bd.get_node(name=\"meal\")"
   ]
  },
  {
   "cell_type": "markdown",
   "id": "5f3ca1ee-963f-4d87-853d-7455043ee0ac",
   "metadata": {},
   "source": [
    "# Generating a site-generic CF\n",
    "\n",
    "Without any information on loading, we just take the average of all given values:\n",
    "\n",
    "```python\n",
    "import fiona\n",
    "import numpy as np\n",
    "\n",
    "results = []\n",
    "with fiona.open(fp) as f:\n",
    "    for feat in f:\n",
    "        cf = feat.properties[\"ws2038cr\"]\n",
    "        if cf is not None:\n",
    "            results.append(cf)\n",
    "np.mean(results)\n",
    ">>> 1.2464223343237526\n",
    "```"
   ]
  },
  {
   "cell_type": "code",
   "execution_count": null,
   "id": "861c7f05-e2b1-4b3b-a5cc-cad0baac6a4d",
   "metadata": {},
   "outputs": [],
   "source": [
    "GLOBAL_CF = 1.2464223343237526"
   ]
  },
  {
   "cell_type": "code",
   "execution_count": null,
   "id": "6aac4acf-74c1-4956-bf3f-2e230606b019",
   "metadata": {},
   "outputs": [],
   "source": [
    "bd.Method((\"water stress\", \"site-generic\")).write([\n",
    "    (bd.get_node(name=\"water\").key, GLOBAL_CF)\n",
    "])"
   ]
  },
  {
   "cell_type": "code",
   "execution_count": null,
   "id": "26014fee-d7e4-424e-9c66-ac897ac10d12",
   "metadata": {},
   "outputs": [],
   "source": [
    "lca = bc.LCA({meal: 1}, (\"water stress\", \"site-generic\"))\n",
    "lca.lci()\n",
    "lca.lcia()"
   ]
  },
  {
   "cell_type": "code",
   "execution_count": null,
   "id": "75a0e8c3-ab22-4cf1-957a-3a787d9529be",
   "metadata": {},
   "outputs": [],
   "source": [
    "lca.score"
   ]
  }
 ],
 "metadata": {
  "kernelspec": {
   "display_name": "Python [conda env:regional]",
   "language": "python",
   "name": "conda-env-regional-py"
  },
  "language_info": {
   "codemirror_mode": {
    "name": "ipython",
    "version": 3
   },
   "file_extension": ".py",
   "mimetype": "text/x-python",
   "name": "python",
   "nbconvert_exporter": "python",
   "pygments_lexer": "ipython3",
   "version": "3.10.10"
  }
 },
 "nbformat": 4,
 "nbformat_minor": 5
}
