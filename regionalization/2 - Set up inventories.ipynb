{
 "cells": [
  {
   "cell_type": "code",
   "execution_count": null,
   "id": "90ecd054-497a-4b92-8d75-9bda59d1edf1",
   "metadata": {},
   "outputs": [],
   "source": [
    "import bw2data as bd"
   ]
  },
  {
   "cell_type": "code",
   "execution_count": null,
   "id": "67bd9eec-a961-4b05-9adc-5d25f78bac1d",
   "metadata": {},
   "outputs": [],
   "source": [
    "PROJECT_NAME = \"Spain case study\""
   ]
  },
  {
   "cell_type": "code",
   "execution_count": null,
   "id": "fb70805b-e11e-4957-b656-deaf0ca53535",
   "metadata": {},
   "outputs": [],
   "source": [
    "RESET = False"
   ]
  },
  {
   "cell_type": "code",
   "execution_count": null,
   "id": "95df28fc-2492-45b7-8d21-7ecbc597d3f3",
   "metadata": {},
   "outputs": [],
   "source": [
    "if PROJECT_NAME in bd.projects and RESET:\n",
    "    bd.projects.delete_project(PROJECT_NAME, True) "
   ]
  },
  {
   "cell_type": "code",
   "execution_count": null,
   "id": "46049ab4-8536-41a9-947b-3827bca889a7",
   "metadata": {},
   "outputs": [],
   "source": [
    "bd.projects.set_current(PROJECT_NAME)"
   ]
  },
  {
   "cell_type": "code",
   "execution_count": null,
   "id": "b2022bed-8e4e-4132-b71f-6e3b95f98835",
   "metadata": {},
   "outputs": [],
   "source": [
    "bio = bd.Database(\"biosphere\")\n",
    "bio.register()"
   ]
  },
  {
   "cell_type": "code",
   "execution_count": null,
   "id": "b173f7af-1e78-4d9c-ab38-d2d8048f5109",
   "metadata": {
    "tags": []
   },
   "outputs": [],
   "source": [
    "h2o = bio.new_node(\n",
    "    code=\"water\",\n",
    "    name=\"water\",\n",
    "    type=\"emission\",\n",
    ")\n",
    "h2o.save()"
   ]
  },
  {
   "cell_type": "code",
   "execution_count": null,
   "id": "8f8ead22-2c53-4b8f-8e41-ab536a2cb42a",
   "metadata": {},
   "outputs": [],
   "source": [
    "co2 = bio.new_node(\n",
    "    code=\"co2\",\n",
    "    name=\"co2\",\n",
    "    type=\"emission\",\n",
    ")\n",
    "co2.save()"
   ]
  },
  {
   "cell_type": "code",
   "execution_count": null,
   "id": "8fc2c039-a758-4e5a-b46c-c6c5c01e8026",
   "metadata": {},
   "outputs": [],
   "source": [
    "ch4 = bio.new_node(\n",
    "    code=\"ch4\",\n",
    "    name=\"ch4\",\n",
    "    type=\"emission\",\n",
    ")\n",
    "ch4.save()"
   ]
  },
  {
   "cell_type": "code",
   "execution_count": null,
   "id": "7b1a3440-288d-4da4-bcee-f443ca32348d",
   "metadata": {},
   "outputs": [],
   "source": [
    "bio.set_geocollections()"
   ]
  },
  {
   "cell_type": "markdown",
   "id": "20a65817-c992-4061-babd-74ca624dfc19",
   "metadata": {},
   "source": [
    "Just in case things go wrong later :)"
   ]
  },
  {
   "cell_type": "code",
   "execution_count": null,
   "id": "ced7bd1e-8efc-4fc6-80ed-8420942161f4",
   "metadata": {},
   "outputs": [],
   "source": [
    "h2o = bd.get_node(name=\"water\")"
   ]
  },
  {
   "cell_type": "code",
   "execution_count": null,
   "id": "4f0600b8-7ea7-4d30-b959-7f825c5673b6",
   "metadata": {},
   "outputs": [],
   "source": [
    "food = bd.Database(\"food\")\n",
    "food.register()"
   ]
  },
  {
   "cell_type": "code",
   "execution_count": null,
   "id": "ba80fc2a-2729-4851-abfa-3f0a4c4f39b7",
   "metadata": {},
   "outputs": [],
   "source": [
    "lemon = food.new_node(\n",
    "    code=\"lemon\",\n",
    "    name=\"lemon\",\n",
    "    location=('regions', 'Granada')\n",
    ")\n",
    "lemon.save()\n",
    "lemon.new_edge(\n",
    "    input=h2o,\n",
    "    amount=5,\n",
    "    type=\"biosphere\",\n",
    ").save()"
   ]
  },
  {
   "cell_type": "code",
   "execution_count": null,
   "id": "f1d7c3e1-c47b-4e9b-bba8-ee4515e57afd",
   "metadata": {},
   "outputs": [],
   "source": [
    "mushroom = food.new_node(\n",
    "    code=\"mushroom\",\n",
    "    name=\"mushroom\",\n",
    "    location=('countries', 'Portugal')\n",
    ")\n",
    "mushroom.save()\n",
    "mushroom.new_edge(\n",
    "    input=h2o,\n",
    "    amount=0.5,\n",
    "    type=\"biosphere\",\n",
    ").save()"
   ]
  },
  {
   "cell_type": "code",
   "execution_count": null,
   "id": "f297eca4-e0e4-4b84-b077-854bc0cfdaac",
   "metadata": {},
   "outputs": [],
   "source": [
    "cheese = food.new_node(\n",
    "    code=\"cheese\",\n",
    "    name=\"cheese\",\n",
    "    location=('countries', 'Spain')\n",
    ")\n",
    "cheese.save()\n",
    "cheese.new_edge(\n",
    "    input=h2o,\n",
    "    amount=25,\n",
    "    type=\"biosphere\",\n",
    ").save()"
   ]
  },
  {
   "cell_type": "code",
   "execution_count": null,
   "id": "b661afe4-1532-4cd1-8cdd-b57f27de42d3",
   "metadata": {},
   "outputs": [],
   "source": [
    "rice = food.new_node(\n",
    "    code=\"rice\",\n",
    "    name=\"rice\",\n",
    "    location=('regions', 'Valencia')\n",
    ")\n",
    "rice.save()\n",
    "rice.new_edge(\n",
    "    input=h2o,\n",
    "    amount=10,\n",
    "    type=\"biosphere\",\n",
    ").save()"
   ]
  },
  {
   "cell_type": "code",
   "execution_count": null,
   "id": "39d25e4f-479f-4eb0-a525-0ecae7c58810",
   "metadata": {},
   "outputs": [],
   "source": [
    "meal = food.new_node(\n",
    "    code=\"meal\",\n",
    "    name=\"meal\",\n",
    "    location=('cities', '14')\n",
    ")\n",
    "meal.save()\n",
    "meal.new_edge(\n",
    "    input=h2o,\n",
    "    amount=0.5,\n",
    "    type=\"biosphere\",\n",
    ").save()\n",
    "meal.new_edge(\n",
    "    input=lemon,\n",
    "    amount=0.25,\n",
    "    type=\"technosphere\",\n",
    ").save()\n",
    "meal.new_edge(\n",
    "    input=rice,\n",
    "    amount=1,\n",
    "    type=\"technosphere\",\n",
    ").save()\n",
    "meal.new_edge(\n",
    "    input=mushroom,\n",
    "    amount=0.5,\n",
    "    type=\"technosphere\",\n",
    ").save()"
   ]
  },
  {
   "cell_type": "code",
   "execution_count": null,
   "id": "82313d19-03bf-490f-973d-3ac4ec7f20ee",
   "metadata": {},
   "outputs": [],
   "source": [
    "meal.new_edge(\n",
    "    input=cheese,\n",
    "    amount=0.1,\n",
    "    type=\"technosphere\",\n",
    ").save()"
   ]
  },
  {
   "cell_type": "code",
   "execution_count": null,
   "id": "9de32983-609c-4982-8de2-5ef08d876176",
   "metadata": {},
   "outputs": [],
   "source": [
    "food.set_geocollections()"
   ]
  }
 ],
 "metadata": {
  "kernelspec": {
   "display_name": "Python [conda env:regional]",
   "language": "python",
   "name": "conda-env-regional-py"
  },
  "language_info": {
   "codemirror_mode": {
    "name": "ipython",
    "version": 3
   },
   "file_extension": ".py",
   "mimetype": "text/x-python",
   "name": "python",
   "nbconvert_exporter": "python",
   "pygments_lexer": "ipython3",
   "version": "3.10.10"
  }
 },
 "nbformat": 4,
 "nbformat_minor": 5
}
