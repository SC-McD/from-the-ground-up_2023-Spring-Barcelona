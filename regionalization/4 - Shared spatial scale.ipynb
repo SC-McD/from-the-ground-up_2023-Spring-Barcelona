{
 "cells": [
  {
   "cell_type": "code",
   "execution_count": null,
   "id": "90ecd054-497a-4b92-8d75-9bda59d1edf1",
   "metadata": {},
   "outputs": [],
   "source": [
    "import bw2data as bd\n",
    "import bw2calc as bc\n",
    "import bw2regional as bwr\n",
    "from pathlib import Path"
   ]
  },
  {
   "cell_type": "code",
   "execution_count": null,
   "id": "67bd9eec-a961-4b05-9adc-5d25f78bac1d",
   "metadata": {},
   "outputs": [],
   "source": [
    "PROJECT_NAME = \"Spain case study\""
   ]
  },
  {
   "cell_type": "code",
   "execution_count": null,
   "id": "46049ab4-8536-41a9-947b-3827bca889a7",
   "metadata": {},
   "outputs": [],
   "source": [
    "bd.projects.set_current(PROJECT_NAME)"
   ]
  },
  {
   "cell_type": "code",
   "execution_count": null,
   "id": "8f01f275-465c-4336-97fe-171eaeea3c8f",
   "metadata": {},
   "outputs": [],
   "source": [
    "meal = bd.get_node(name=\"meal\")"
   ]
  },
  {
   "cell_type": "code",
   "execution_count": null,
   "id": "3ca539e4-a544-416f-bfbb-79e2ba3adc13",
   "metadata": {},
   "outputs": [],
   "source": [
    "h2o = bd.get_node(name=\"water\")"
   ]
  },
  {
   "cell_type": "code",
   "execution_count": null,
   "id": "86df77d0-07a1-464a-a80d-bedeae7a24a3",
   "metadata": {},
   "outputs": [],
   "source": [
    "data_dir = Path.cwd().absolute() / \"data\"\n",
    "assert data_dir.is_dir()"
   ]
  },
  {
   "cell_type": "code",
   "execution_count": null,
   "id": "c33eea21-7546-4643-ac98-0eed4d7405a3",
   "metadata": {},
   "outputs": [],
   "source": [
    "import fiona\n",
    "from shapely.geometry import shape\n",
    "from collections import defaultdict\n",
    "import numpy as np"
   ]
  },
  {
   "cell_type": "code",
   "execution_count": null,
   "id": "a11271a7-ca5f-4b87-b252-f83a0d3faf72",
   "metadata": {},
   "outputs": [],
   "source": [
    "ws = bwr.geocollections['water-stress']\n",
    "regions = bwr.geocollections['regions']\n",
    "cities = bwr.geocollections['cities']\n",
    "\n",
    "cfs = defaultdict(list)\n",
    "\n",
    "with fiona.open(ws['filepath']) as ws:\n",
    "    for ws_feature in ws:\n",
    "        ws_geometry = shape(ws_feature['geometry'])\n",
    "        with fiona.open(regions['filepath']) as regs:\n",
    "            for r_feature in regs:\n",
    "                if ws_geometry.intersects(shape(r_feature['geometry'])):\n",
    "                    cfs[('regions', r_feature.properties[regions['field']])].append(ws_feature.properties[\"ws2038cr\"])\n",
    "        with fiona.open(cities['filepath']) as cits:\n",
    "            for c_feature in cits:\n",
    "                if ws_geometry.intersects(shape(c_feature['geometry'])):\n",
    "                    cfs[('cities', c_feature.properties[cities['field']])].append(ws_feature.properties[\"ws2038cr\"])        "
   ]
  },
  {
   "cell_type": "code",
   "execution_count": null,
   "id": "a5b1ce5a-3ffe-425a-93ed-ab2530daaa08",
   "metadata": {},
   "outputs": [],
   "source": [
    "formatted_cfs = [(h2o.key, np.average(values), where) for where, values in cfs.items()]"
   ]
  },
  {
   "cell_type": "code",
   "execution_count": null,
   "id": "6aac4acf-74c1-4956-bf3f-2e230606b019",
   "metadata": {},
   "outputs": [],
   "source": [
    "bd.Method((\"water stress\", \"shared_scale\")).write(formatted_cfs)"
   ]
  },
  {
   "cell_type": "code",
   "execution_count": null,
   "id": "26014fee-d7e4-424e-9c66-ac897ac10d12",
   "metadata": {},
   "outputs": [],
   "source": [
    "lca = bwr.OneSpatialScaleLCA({meal: 1}, (\"water stress\", \"shared_scale\"))\n",
    "lca.lci()\n",
    "lca.lcia()"
   ]
  },
  {
   "cell_type": "code",
   "execution_count": null,
   "id": "75a0e8c3-ab22-4cf1-957a-3a787d9529be",
   "metadata": {},
   "outputs": [],
   "source": [
    "lca.score"
   ]
  }
 ],
 "metadata": {
  "kernelspec": {
   "display_name": "Python [conda env:regional]",
   "language": "python",
   "name": "conda-env-regional-py"
  },
  "language_info": {
   "codemirror_mode": {
    "name": "ipython",
    "version": 3
   },
   "file_extension": ".py",
   "mimetype": "text/x-python",
   "name": "python",
   "nbconvert_exporter": "python",
   "pygments_lexer": "ipython3",
   "version": "3.10.10"
  }
 },
 "nbformat": 4,
 "nbformat_minor": 5
}
