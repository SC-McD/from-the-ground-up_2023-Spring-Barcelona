{
 "cells": [
  {
   "cell_type": "code",
   "execution_count": null,
   "id": "90ecd054-497a-4b92-8d75-9bda59d1edf1",
   "metadata": {},
   "outputs": [],
   "source": [
    "import bw2data as bd\n",
    "import bw2regional as bwr\n",
    "from pathlib import Path"
   ]
  },
  {
   "cell_type": "code",
   "execution_count": null,
   "id": "67bd9eec-a961-4b05-9adc-5d25f78bac1d",
   "metadata": {},
   "outputs": [],
   "source": [
    "PROJECT_NAME = \"Spain case study\""
   ]
  },
  {
   "cell_type": "code",
   "execution_count": null,
   "id": "89f9c1b0-38e1-490a-8d02-5fd89303cf8f",
   "metadata": {},
   "outputs": [],
   "source": [
    "RESET = True"
   ]
  },
  {
   "cell_type": "code",
   "execution_count": null,
   "id": "60f26996-8a34-42f0-852d-7583c03e19ed",
   "metadata": {},
   "outputs": [],
   "source": [
    "if PROJECT_NAME in bd.projects and RESET:\n",
    "    bd.projects.delete_project(PROJECT_NAME, True) "
   ]
  },
  {
   "cell_type": "code",
   "execution_count": null,
   "id": "46049ab4-8536-41a9-947b-3827bca889a7",
   "metadata": {},
   "outputs": [],
   "source": [
    "bd.projects.set_current(PROJECT_NAME)"
   ]
  },
  {
   "cell_type": "code",
   "execution_count": null,
   "id": "809abfae-58ee-4957-a389-daa54857b6e7",
   "metadata": {},
   "outputs": [],
   "source": [
    "data_dir = Path.cwd().absolute() / \"data\"\n",
    "assert data_dir.is_dir()"
   ]
  },
  {
   "cell_type": "markdown",
   "id": "96b266e0-59c0-4391-98e5-d7d5dee539be",
   "metadata": {},
   "source": [
    "Tell `bw2regional` about our maps."
   ]
  },
  {
   "cell_type": "code",
   "execution_count": null,
   "id": "16b57324-cc3f-4358-a564-bc85de7f3dc9",
   "metadata": {},
   "outputs": [],
   "source": [
    "bwr.geocollections['cities'] = {\n",
    "    'filepath': str(data_dir / 'cities.gpkg'),\n",
    "    'field': 'city_id',\n",
    "}"
   ]
  },
  {
   "cell_type": "code",
   "execution_count": null,
   "id": "be64ffbb-da90-461b-97ac-b15a2f7b1534",
   "metadata": {},
   "outputs": [],
   "source": [
    "bwr.geocollections['regions'] = {\n",
    "    'filepath': str(data_dir / 'regions.gpkg'),\n",
    "    'field': 'name',\n",
    "}"
   ]
  },
  {
   "cell_type": "code",
   "execution_count": null,
   "id": "8159b9e8-00bf-4f23-b8bb-d1c88edb7dbc",
   "metadata": {},
   "outputs": [],
   "source": [
    "bwr.geocollections['countries'] = {\n",
    "    'filepath': str(data_dir / 'countries.gpkg'),\n",
    "    'field': 'NAME',\n",
    "}"
   ]
  },
  {
   "cell_type": "code",
   "execution_count": null,
   "id": "907897d0-4e3a-4e76-8283-9837952ec7ea",
   "metadata": {},
   "outputs": [],
   "source": [
    "bwr.geocollections['water-stress'] = {\n",
    "    'filepath': str(data_dir / 'spain_water_stress.gpkg'),\n",
    "    'field': 'BasinID',\n",
    "}"
   ]
  },
  {
   "cell_type": "code",
   "execution_count": null,
   "id": "10001d08-f72d-4b48-8d9e-7d64a03f946e",
   "metadata": {},
   "outputs": [],
   "source": [
    "CROPS = ['cereals', 'citrus', 'rice', 'potatoe']"
   ]
  },
  {
   "cell_type": "code",
   "execution_count": null,
   "id": "8c696bb2-133e-4b9e-85aa-d043360165c4",
   "metadata": {},
   "outputs": [],
   "source": [
    "for crop in CROPS:\n",
    "    bwr.geocollections[crop] = {'filepath': str(data_dir / f'{crop}.tiff'), 'nodata': -999}"
   ]
  }
 ],
 "metadata": {
  "kernelspec": {
   "display_name": "Python [conda env:regional]",
   "language": "python",
   "name": "conda-env-regional-py"
  },
  "language_info": {
   "codemirror_mode": {
    "name": "ipython",
    "version": 3
   },
   "file_extension": ".py",
   "mimetype": "text/x-python",
   "name": "python",
   "nbconvert_exporter": "python",
   "pygments_lexer": "ipython3",
   "version": "3.10.10"
  }
 },
 "nbformat": 4,
 "nbformat_minor": 5
}
