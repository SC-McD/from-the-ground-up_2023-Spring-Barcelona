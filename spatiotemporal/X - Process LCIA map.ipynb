{
 "cells": [
  {
   "cell_type": "markdown",
   "id": "c19a0ec4-c132-42c9-93f0-acd683d9c162",
   "metadata": {},
   "source": [
    "# Processing the monthly water stress index maps into a sange geospatial format\n",
    "\n",
    "Data from [Stephan Pfister, ETHZ](https://esd.ifu.ethz.ch/downloads/monthly-water-scarcity-assessment---water-footprinting.html).\n",
    "\n",
    "Many Bothans died to bring us this information.\n",
    "\n",
    "First converted from `KMZ` to `GeoPackage` with GDAL and extracted the (only) layer `WSI_weigh.ann.avg`:\n",
    "\n",
    "```bash\n",
    "ogr2ogr wsi_annual_yuck.gpkg ifu-esd-monthly_annual_WSI.kmz WSI_weigh.ann.avg\n",
    "```"
   ]
  },
  {
   "cell_type": "code",
   "execution_count": null,
   "id": "df6b6fa7-74ca-4a68-bba5-06c1d9a7c4a8",
   "metadata": {},
   "outputs": [],
   "source": [
    "import fiona\n",
    "from bs4 import BeautifulSoup\n",
    "from shapely.geometry import shape, mapping"
   ]
  },
  {
   "cell_type": "markdown",
   "id": "708f3b41-1f63-489d-b554-ef0d40479d55",
   "metadata": {},
   "source": [
    "Values stored as string, convert to `int` or `float` if possible"
   ]
  },
  {
   "cell_type": "code",
   "execution_count": null,
   "id": "7d1debde-9263-41d5-bf65-8aa546131bea",
   "metadata": {},
   "outputs": [],
   "source": [
    "def try_number(x):\n",
    "    try:\n",
    "        if \".\" in x:\n",
    "            return float(x)\n",
    "        else:\n",
    "            return int(x)\n",
    "    except:\n",
    "        return x"
   ]
  },
  {
   "cell_type": "markdown",
   "id": "b46019cd-a32b-4033-8672-60ea2add6eb8",
   "metadata": {},
   "source": [
    "Change some column labels and filter out some columns"
   ]
  },
  {
   "cell_type": "code",
   "execution_count": null,
   "id": "160b9b84-d0db-4f2d-a13a-7bbbda4a0c66",
   "metadata": {},
   "outputs": [],
   "source": [
    "remapping = {\n",
    "    'Wweigh_mWSI': \"mean\",\n",
    "    'WSI_01': 'WSI_01',\n",
    "    'WSI_02': 'WSI_02',\n",
    "    'WSI_03': 'WSI_03',\n",
    "    'WSI_04': 'WSI_04',\n",
    "    'WSI_05': 'WSI_05',\n",
    "    'WSI_06': 'WSI_06',\n",
    "    'WSI_07': 'WSI_07',\n",
    "    'WSI_08': 'WSI_08',\n",
    "    'WSI_09': 'WSI_09',\n",
    "    'WSI_10': 'WSI_10',\n",
    "    'WSI_11': 'WSI_11',\n",
    "    'WSI_12': 'WSI_12',\n",
    "}"
   ]
  },
  {
   "cell_type": "markdown",
   "id": "2d5c3180-8458-4ea2-ad62-46d715385f2b",
   "metadata": {},
   "source": [
    "Basin IDs are not unique, as there are somehow more than 10.000 `MultiPolygon` geometries (non-contiguous watersheds?)."
   ]
  },
  {
   "cell_type": "code",
   "execution_count": null,
   "id": "f866fdae-b27b-4737-af3b-1c6eb00e035c",
   "metadata": {},
   "outputs": [],
   "source": [
    "class BasinCounter:\n",
    "    def __init__(self):\n",
    "        self.data = {}\n",
    "\n",
    "    def __getitem__(self, key):\n",
    "        try:\n",
    "            _, index = self.data[key]\n",
    "            index += 1\n",
    "        except KeyError:\n",
    "            index = 1\n",
    "        self.data[key] = (key, index)\n",
    "        return f\"{key}-{index}\"\n",
    "\n",
    "\n",
    "bc = BasinCounter()"
   ]
  },
  {
   "cell_type": "markdown",
   "id": "2bd4588a-c8a0-49f3-852f-eeedf2be26ab",
   "metadata": {},
   "source": [
    "Data is stored inside an attribute called `description`, which is HTML (!). Even better, the data is inside a table inside another table in that HTML (!!)."
   ]
  },
  {
   "cell_type": "code",
   "execution_count": null,
   "id": "bf5f55cc-c522-45a9-bcc5-c8e20f2a5dc3",
   "metadata": {},
   "outputs": [],
   "source": [
    "def parse_table(s):\n",
    "    return dict([\n",
    "        [try_number(td.string) for td in row.find_all(\"td\")]\n",
    "        for row in s.table.table.find_all(\"tr\")\n",
    "    ])\n",
    "\n",
    "def set_attributes_from_table(feat, description):\n",
    "    s = BeautifulSoup(description)\n",
    "    for key, value in parse_table(s).items():\n",
    "        try:\n",
    "            if key == \"BAS34S_ID\":\n",
    "                value = bc[value]\n",
    "            feat['properties'][remapping[key]] = value\n",
    "        except KeyError:\n",
    "            pass\n",
    "    return feat"
   ]
  },
  {
   "cell_type": "markdown",
   "id": "6a9f7c9f-5d1c-48d3-86fc-0a56ee7a3fe9",
   "metadata": {},
   "source": [
    "Finally ready to write the new GeoPackage"
   ]
  },
  {
   "cell_type": "code",
   "execution_count": null,
   "id": "23fb67bf-f96e-41f7-8ede-a83b7d70b25c",
   "metadata": {},
   "outputs": [],
   "source": [
    "with fiona.open(\"wsi_annual_yuck.gpkg\") as src:\n",
    "    crs = src.crs\n",
    "    schema = {\n",
    "        'geometry': 'Polygon',\n",
    "        'properties': {\n",
    "            'mean': \"float\",\n",
    "            'basin_id': \"str\",\n",
    "            'WSI_01': 'float',\n",
    "            'WSI_02': 'float',\n",
    "            'WSI_03': 'float',\n",
    "            'WSI_04': 'float',\n",
    "            'WSI_05': 'float',\n",
    "            'WSI_06': 'float',\n",
    "            'WSI_07': 'float',\n",
    "            'WSI_08': 'float',\n",
    "            'WSI_09': 'float',\n",
    "            'WSI_10': 'float',\n",
    "            'WSI_11': 'float',\n",
    "            'WSI_12': 'float',\n",
    "        }\n",
    "    }\n",
    "\n",
    "    with fiona.open(\"wsi_annual.gpkg\", \"w\", driver=\"GPKG\", \n",
    "                    crs=crs, schema=schema) as dst:\n",
    "        for feat_orig in src:\n",
    "            if feat_orig.geometry['type'] == 'MultiPolygon':\n",
    "                # Unroll MultiPolygon to Polygon\n",
    "                geom = shape(feat_orig.geometry)\n",
    "                for polygon in shape(feat_orig.geometry).geoms:\n",
    "                    feat = {'geometry': mapping(polygon), 'properties': {}}\n",
    "                    set_attributes_from_table(feat, feat_orig.properties['description'])\n",
    "                    dst.write(feat)\n",
    "            else:\n",
    "                feat = {'geometry': feat_orig['geometry'], 'properties': {}}\n",
    "                set_attributes_from_table(feat, feat_orig.properties['description'])\n",
    "                dst.write(feat)"
   ]
  }
 ],
 "metadata": {
  "kernelspec": {
   "display_name": "Python [conda env:regional]",
   "language": "python",
   "name": "conda-env-regional-py"
  },
  "language_info": {
   "codemirror_mode": {
    "name": "ipython",
    "version": 3
   },
   "file_extension": ".py",
   "mimetype": "text/x-python",
   "name": "python",
   "nbconvert_exporter": "python",
   "pygments_lexer": "ipython3",
   "version": "3.10.10"
  }
 },
 "nbformat": 4,
 "nbformat_minor": 5
}
