{
 "cells": [
  {
   "cell_type": "code",
   "execution_count": 1,
   "id": "7c2854e6-527d-4f33-ae94-4c0de9cfc490",
   "metadata": {},
   "outputs": [],
   "source": [
    "from bw_temporalis import TemporalDistribution as TD, TemporalisLCA, Timeline\n",
    "import bw2data as bd\n",
    "import bw2calc as bc\n",
    "import bw_temporalis as bwt\n",
    "import numpy as np\n",
    "import pandas as pd\n",
    "from functools import partial\n",
    "import bw2regional as bwr\n",
    "from bw_graph_tools import NewNodeEachVisitGraphTraversal as GraphTraversal\n",
    "from functools import partial"
   ]
  },
  {
   "cell_type": "code",
   "execution_count": 2,
   "id": "b04990ce-ba7c-45b3-8aae-665e7d0ce1be",
   "metadata": {},
   "outputs": [],
   "source": [
    "PROJECT_NAME = \"Spain case study spatiotemporal\""
   ]
  },
  {
   "cell_type": "code",
   "execution_count": 3,
   "id": "72608b78-45d6-4997-a0aa-4699bd3a802a",
   "metadata": {},
   "outputs": [],
   "source": [
    "bd.projects.set_current(PROJECT_NAME)"
   ]
  },
  {
   "cell_type": "code",
   "execution_count": 4,
   "id": "263e68db-32ec-4bb9-be22-b93cb1ab1713",
   "metadata": {},
   "outputs": [],
   "source": [
    "meal = bd.get_node(name=\"meal\")"
   ]
  },
  {
   "cell_type": "code",
   "execution_count": 5,
   "id": "00436d02-9eef-4755-bfa4-51452be238b1",
   "metadata": {},
   "outputs": [],
   "source": [
    "def combine_xts(xts: list, label: str):\n",
    "    data = [elem for xt in xts for elem in bwr.ExtensionTable(xt).load()]\n",
    "    geocollections = list({bwr.extension_tables[xt]['geocollection'] for xt in xts})\n",
    "    new_ext = bwr.ExtensionTable(label)\n",
    "    new_ext.register(geocollections=geocollections)\n",
    "    new_ext.write(data)"
   ]
  },
  {
   "cell_type": "code",
   "execution_count": 6,
   "id": "4265d913-4f7c-4136-8bb6-e4ec9b61dec9",
   "metadata": {},
   "outputs": [],
   "source": [
    "CROPS = ['cereals', 'citrus', 'potatoe', 'rice']"
   ]
  },
  {
   "cell_type": "code",
   "execution_count": 7,
   "id": "2b5651e0-021f-4099-9d8f-ad2ff0c1c94a",
   "metadata": {},
   "outputs": [],
   "source": [
    "for crop in CROPS:\n",
    "    xts = [xt for xt in bwr.extension_tables if crop in xt]\n",
    "    combine_xts(xts, f\"{crop}-xt-all\")"
   ]
  },
  {
   "cell_type": "code",
   "execution_count": 8,
   "id": "88b606e8-f393-4b68-b3ac-73144d7c4cee",
   "metadata": {},
   "outputs": [],
   "source": [
    "def characterization_matrix_for_regionalized_lca(lca):\n",
    "    return (\n",
    "        lca.inv_mapping_matrix\n",
    "        * lca.distribution_normalization_matrix\n",
    "        * lca.distribution_matrix\n",
    "        * lca.xtable_matrix\n",
    "        * lca.geo_transform_normalization_matrix\n",
    "        * lca.geo_transform_matrix\n",
    "        * lca.reg_cf_matrix\n",
    "    ).T"
   ]
  },
  {
   "cell_type": "code",
   "execution_count": 9,
   "id": "841a4d3e-b8be-4ca1-ab03-b0b3676c862f",
   "metadata": {},
   "outputs": [],
   "source": [
    "matrix_dict = {}\n",
    "\n",
    "for crop in CROPS:\n",
    "    for month in range(1, 13):\n",
    "        lca = bwr.ExtensionTablesLCA(\n",
    "            demand={meal: 1},\n",
    "            method=(\"Monthly water stress\", str(month)),\n",
    "            xtable=f'{crop}-xt-all'\n",
    "        )\n",
    "        lca.lci()\n",
    "        lca.lcia() \n",
    "        matrix_dict[(crop, month)] = characterization_matrix_for_regionalized_lca(lca)"
   ]
  },
  {
   "cell_type": "code",
   "execution_count": 10,
   "id": "156f052f-5c35-4a81-86d0-d6b0dcd71670",
   "metadata": {},
   "outputs": [],
   "source": [
    "def characterize_water(\n",
    "    series,\n",
    "    lca,\n",
    "    matrix_dict,\n",
    "    crop\n",
    ") -> pd.DataFrame:\n",
    "    amount = matrix_dict[\n",
    "        (crop, series.date.month)\n",
    "    ][\n",
    "        lca.dicts.biosphere[series.flow], \n",
    "        lca.dicts.activity[series.activity]\n",
    "    ] * series.amount\n",
    "    return pd.DataFrame(\n",
    "        {\n",
    "            \"date\": [series.date],\n",
    "            \"amount\": [amount],\n",
    "            \"flow\": [series.flow],\n",
    "            \"activity\": [series.activity],\n",
    "        }\n",
    "    )"
   ]
  },
  {
   "cell_type": "code",
   "execution_count": 11,
   "id": "ebff017e-7843-4738-9fbb-ec6e283eeb69",
   "metadata": {},
   "outputs": [],
   "source": [
    "characterize_water_generic = partial(characterize_water, lca=lca, matrix_dict=matrix_dict)"
   ]
  },
  {
   "cell_type": "code",
   "execution_count": 12,
   "id": "dc0e5f0e-cafd-4bc9-a3bd-ce23e71157dc",
   "metadata": {},
   "outputs": [],
   "source": [
    "class RegionalizedGraphTraversal(GraphTraversal):\n",
    "    @classmethod\n",
    "    def get_characterized_biosphere(cls, lca: bc.LCA):\n",
    "        return characterization_matrix_for_regionalized_lca(lca).multiply(lca.biosphere_matrix)"
   ]
  },
  {
   "cell_type": "code",
   "execution_count": 13,
   "id": "ad1eb4f3-6388-462d-aef2-40df13626138",
   "metadata": {},
   "outputs": [],
   "source": [
    "CROP = \"cereals\""
   ]
  },
  {
   "cell_type": "code",
   "execution_count": 14,
   "id": "b32ac1c8-4bb3-4777-8dd0-00fb3c0e6b48",
   "metadata": {},
   "outputs": [],
   "source": [
    "lca = bwr.ExtensionTablesLCA(\n",
    "    demand={meal: 1},\n",
    "    method=(\"Monthly water stress\", \"Average\"),\n",
    "    xtable=f'{crop}-xt-all'\n",
    ")\n",
    "lca.lci()\n",
    "lca.lcia()"
   ]
  },
  {
   "cell_type": "code",
   "execution_count": 15,
   "id": "cfc29341-39d5-4dda-92d1-dc17a562c4c8",
   "metadata": {
    "tags": []
   },
   "outputs": [
    {
     "name": "stdout",
     "output_type": "stream",
     "text": [
      "Starting graph traversal\n",
      "Calculation count: 4\n"
     ]
    }
   ],
   "source": [
    "tlca = TemporalisLCA(lca, graph_traversal=RegionalizedGraphTraversal)"
   ]
  },
  {
   "cell_type": "code",
   "execution_count": null,
   "id": "288526ab",
   "metadata": {},
   "outputs": [],
   "source": []
  },
  {
   "cell_type": "code",
   "execution_count": 16,
   "id": "200ecffb-5276-4071-aa45-e8e1146d34c9",
   "metadata": {
    "tags": []
   },
   "outputs": [],
   "source": [
    "tl = tlca.build_timeline()"
   ]
  },
  {
   "cell_type": "code",
   "execution_count": 17,
   "id": "696ecd6c-5888-42e0-abad-f83c0ac483ee",
   "metadata": {
    "tags": []
   },
   "outputs": [
    {
     "ename": "AttributeError",
     "evalue": "'tuple' object has no attribute 'date'",
     "output_type": "error",
     "traceback": [
      "\u001b[0;31m---------------------------------------------------------------------------\u001b[0m",
      "\u001b[0;31mAttributeError\u001b[0m                            Traceback (most recent call last)",
      "Cell \u001b[0;32mIn[17], line 1\u001b[0m\n\u001b[0;32m----> 1\u001b[0m tl\u001b[39m.\u001b[39;49mbuild_dataframe()\n",
      "File \u001b[0;32m~/venvs/bw25st/lib/python3.10/site-packages/bw_temporalis/timeline.py:88\u001b[0m, in \u001b[0;36mTimeline.build_dataframe\u001b[0;34m(self)\u001b[0m\n\u001b[1;32m     85\u001b[0m \u001b[39mif\u001b[39;00m \u001b[39mnot\u001b[39;00m \u001b[39mlen\u001b[39m(\u001b[39mself\u001b[39m\u001b[39m.\u001b[39mdata):\n\u001b[1;32m     86\u001b[0m     \u001b[39mraise\u001b[39;00m EmptyTimeline(\u001b[39m\"\u001b[39m\u001b[39mNo `FlowTD` elements present\u001b[39m\u001b[39m\"\u001b[39m)\n\u001b[0;32m---> 88\u001b[0m date \u001b[39m=\u001b[39m np\u001b[39m.\u001b[39mhstack([o\u001b[39m.\u001b[39mdistribution\u001b[39m.\u001b[39mdate \u001b[39mfor\u001b[39;00m o \u001b[39min\u001b[39;00m \u001b[39mself\u001b[39m\u001b[39m.\u001b[39mdata])\n\u001b[1;32m     90\u001b[0m \u001b[39m# Not really testable; `TemporalDistribution` will raise an error with an\u001b[39;00m\n\u001b[1;32m     91\u001b[0m \u001b[39m# empty array. But our users are creative...\u001b[39;00m\n\u001b[1;32m     92\u001b[0m \u001b[39mif\u001b[39;00m \u001b[39mnot\u001b[39;00m \u001b[39mlen\u001b[39m(date):\n",
      "File \u001b[0;32m~/venvs/bw25st/lib/python3.10/site-packages/bw_temporalis/timeline.py:88\u001b[0m, in \u001b[0;36m<listcomp>\u001b[0;34m(.0)\u001b[0m\n\u001b[1;32m     85\u001b[0m \u001b[39mif\u001b[39;00m \u001b[39mnot\u001b[39;00m \u001b[39mlen\u001b[39m(\u001b[39mself\u001b[39m\u001b[39m.\u001b[39mdata):\n\u001b[1;32m     86\u001b[0m     \u001b[39mraise\u001b[39;00m EmptyTimeline(\u001b[39m\"\u001b[39m\u001b[39mNo `FlowTD` elements present\u001b[39m\u001b[39m\"\u001b[39m)\n\u001b[0;32m---> 88\u001b[0m date \u001b[39m=\u001b[39m np\u001b[39m.\u001b[39mhstack([o\u001b[39m.\u001b[39;49mdistribution\u001b[39m.\u001b[39;49mdate \u001b[39mfor\u001b[39;00m o \u001b[39min\u001b[39;00m \u001b[39mself\u001b[39m\u001b[39m.\u001b[39mdata])\n\u001b[1;32m     90\u001b[0m \u001b[39m# Not really testable; `TemporalDistribution` will raise an error with an\u001b[39;00m\n\u001b[1;32m     91\u001b[0m \u001b[39m# empty array. But our users are creative...\u001b[39;00m\n\u001b[1;32m     92\u001b[0m \u001b[39mif\u001b[39;00m \u001b[39mnot\u001b[39;00m \u001b[39mlen\u001b[39m(date):\n",
      "\u001b[0;31mAttributeError\u001b[0m: 'tuple' object has no attribute 'date'"
     ]
    }
   ],
   "source": [
    "tl.build_dataframe()"
   ]
  },
  {
   "cell_type": "code",
   "execution_count": null,
   "id": "9a9eef78-2a21-4b61-ab6d-2a0613c3ac52",
   "metadata": {
    "tags": []
   },
   "outputs": [],
   "source": [
    "tl.df.plot(x=\"date\", y=\"amount\", kind=\"scatter\")"
   ]
  },
  {
   "cell_type": "code",
   "execution_count": null,
   "id": "6126a20e-7a12-470f-85ce-6be0b9f73609",
   "metadata": {},
   "outputs": [],
   "source": [
    "characterize_water_specific = partial(characterize_water_generic, crop=CROP)"
   ]
  },
  {
   "cell_type": "code",
   "execution_count": null,
   "id": "8340f806-51fe-4341-88ba-9c50645b92f7",
   "metadata": {},
   "outputs": [],
   "source": [
    "characterized_df = tl.characterize_dataframe(\n",
    "    characterization_function=characterize_water_specific, \n",
    "    cumsum=True\n",
    ")"
   ]
  },
  {
   "cell_type": "code",
   "execution_count": null,
   "id": "7e642b1a-f16d-47a5-98d0-30ee48c3db55",
   "metadata": {
    "tags": []
   },
   "outputs": [],
   "source": [
    "characterized_df.plot(x=\"date\", y=\"amount_sum\")"
   ]
  },
  {
   "cell_type": "code",
   "execution_count": null,
   "id": "b6c7eaea-ab77-4157-b487-f1b8f4beb722",
   "metadata": {},
   "outputs": [],
   "source": []
  }
 ],
 "metadata": {
  "kernelspec": {
   "display_name": "bw25st",
   "language": "python",
   "name": "python3"
  },
  "language_info": {
   "codemirror_mode": {
    "name": "ipython",
    "version": 3
   },
   "file_extension": ".py",
   "mimetype": "text/x-python",
   "name": "python",
   "nbconvert_exporter": "python",
   "pygments_lexer": "ipython3",
   "version": "3.10.7"
  }
 },
 "nbformat": 4,
 "nbformat_minor": 5
}
