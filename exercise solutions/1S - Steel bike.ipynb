{
 "cells": [
  {
   "cell_type": "code",
   "execution_count": 48,
   "id": "4bce7555-2e88-4398-bf2c-5ea1a34290c9",
   "metadata": {},
   "outputs": [],
   "source": [
    "import bw2data as bd\n",
    "import bw2calc as bc\n",
    "import bw2analyzer as ba"
   ]
  },
  {
   "cell_type": "code",
   "execution_count": 2,
   "id": "cc90c44f-d3b6-46cf-a33d-6c5f973d5c7a",
   "metadata": {},
   "outputs": [],
   "source": [
    "bd.projects.set_current(\"supply chain graph\")"
   ]
  },
  {
   "cell_type": "code",
   "execution_count": 20,
   "id": "dc194a30-4a35-4c01-9d20-57b34ce36e89",
   "metadata": {},
   "outputs": [],
   "source": [
    "del bd.databases[\"steel bike\"]"
   ]
  },
  {
   "cell_type": "code",
   "execution_count": 21,
   "id": "c60fc1f9-2639-43ea-8427-36fe46596893",
   "metadata": {},
   "outputs": [],
   "source": [
    "sb = bd.Database(\"steel bike\")\n",
    "sb.register()"
   ]
  },
  {
   "cell_type": "code",
   "execution_count": 28,
   "id": "b1c0d76b-37bb-43dd-b9bb-09ca50f7b0ea",
   "metadata": {},
   "outputs": [],
   "source": [
    "coal = sb.new_node(name=\"Coal\", unit=\"kg\", code=\"coal\")\n",
    "steel = sb.new_node(name=\"Steel\", unit=\"kg\", code=\"steel\")\n",
    "iron_mining = sb.new_node(name=\"Iron mining\", unit=\"kg\", code=\"im\")\n",
    "iron_ore = sb.new_node(name=\"Iron ore\", unit=\"kg\", code=\"io\", type=\"emission\")\n",
    "steel_bike = sb.new_node(name=\"Steel bike\", unit=\"unit\", code=\"sb\")"
   ]
  },
  {
   "cell_type": "code",
   "execution_count": 29,
   "id": "016783b2-3063-4ca3-b92e-7f21aaeb9b55",
   "metadata": {},
   "outputs": [],
   "source": [
    "coal.save()\n",
    "steel.save()\n",
    "iron_mining.save()\n",
    "iron_ore.save()\n",
    "steel_bike.save()"
   ]
  },
  {
   "cell_type": "code",
   "execution_count": 38,
   "id": "bbd8ff6d-7ff7-4f52-b72e-b3e56ed22397",
   "metadata": {},
   "outputs": [],
   "source": [
    "iron_mining.new_edge(\n",
    "    input=iron_ore,\n",
    "    amount=1.25, \n",
    "    uncertainty_type=5, \n",
    "    minimum=1,\n",
    "    maximum=1.75, \n",
    "    type='biosphere',\n",
    ").save()"
   ]
  },
  {
   "cell_type": "code",
   "execution_count": 39,
   "id": "ea99ec9a-99ad-427f-bcbd-a7494732aacf",
   "metadata": {},
   "outputs": [],
   "source": [
    "steel.new_edge(\n",
    "    input=iron_mining,\n",
    "    amount=1.1, \n",
    "    uncertainty_type=5, \n",
    "    minimum=1,\n",
    "    maximum=1.25, \n",
    "    type='technosphere',\n",
    ").save()"
   ]
  },
  {
   "cell_type": "code",
   "execution_count": 40,
   "id": "24c41aef-d4e9-4d97-8bf3-a7b9af173526",
   "metadata": {},
   "outputs": [],
   "source": [
    "steel.new_edge(\n",
    "    input=coal,\n",
    "    amount=0.2, \n",
    "    uncertainty_type=5, \n",
    "    minimum=0.1,\n",
    "    maximum=0.5, \n",
    "    type='technosphere',\n",
    ").save()"
   ]
  },
  {
   "cell_type": "code",
   "execution_count": 41,
   "id": "18c94e57-d8a4-4e99-b548-b2691c0e8d83",
   "metadata": {},
   "outputs": [],
   "source": [
    "steel_bike.new_edge(\n",
    "    input=steel,\n",
    "    amount=8, \n",
    "    uncertainty_type=5, \n",
    "    minimum=4,\n",
    "    maximum=15, \n",
    "    type='technosphere',\n",
    ").save()"
   ]
  },
  {
   "cell_type": "code",
   "execution_count": 42,
   "id": "ca8b66f1-3240-485e-b05e-b3238c2eb6ce",
   "metadata": {},
   "outputs": [],
   "source": [
    "iron_mining.new_edge(\n",
    "    input=steel_bike,\n",
    "    amount=0.001, \n",
    "    type='technosphere',\n",
    ").save()\n",
    "coal.new_edge(\n",
    "    input=steel_bike,\n",
    "    amount=0.001, \n",
    "    type='technosphere',\n",
    ").save()\n",
    "steel.new_edge(\n",
    "    input=steel_bike,\n",
    "    amount=0.005, \n",
    "    type='technosphere',\n",
    ").save()"
   ]
  },
  {
   "cell_type": "code",
   "execution_count": 46,
   "id": "80be6081-ce89-4ff8-a137-2ae853ffe0b1",
   "metadata": {},
   "outputs": [],
   "source": [
    "bd.Method((\"resources\",)).write([\n",
    "    (iron_ore.key, {'amount': 3.141, 'uncertainty_type': 3, 'loc': 3.141, 'scale': 0.5926535}),\n",
    "])"
   ]
  },
  {
   "cell_type": "code",
   "execution_count": 47,
   "id": "366cbc0f-9977-4165-a0cd-172d4f99fcd5",
   "metadata": {},
   "outputs": [],
   "source": [
    "lca = bc.LCA({steel_bike: 1}, (\"resources\",))\n",
    "lca.lci()\n",
    "lca.lcia()"
   ]
  },
  {
   "cell_type": "code",
   "execution_count": 45,
   "id": "fd26f71a-b205-4bbc-b579-eae613dbb956",
   "metadata": {},
   "outputs": [
    {
     "data": {
      "text/plain": [
       "matrix([[0.  , 0.  , 1.25, 0.  ]])"
      ]
     },
     "execution_count": 45,
     "metadata": {},
     "output_type": "execute_result"
    }
   ],
   "source": [
    "lca.biosphere_matrix.todense()"
   ]
  },
  {
   "cell_type": "code",
   "execution_count": null,
   "id": "a2b41a9b-7e69-4e9d-93e2-0e13f7cc59e9",
   "metadata": {},
   "outputs": [],
   "source": []
  }
 ],
 "metadata": {
  "kernelspec": {
   "display_name": "Python [conda env:bw25]",
   "language": "python",
   "name": "conda-env-bw25-py"
  },
  "language_info": {
   "codemirror_mode": {
    "name": "ipython",
    "version": 3
   },
   "file_extension": ".py",
   "mimetype": "text/x-python",
   "name": "python",
   "nbconvert_exporter": "python",
   "pygments_lexer": "ipython3",
   "version": "3.10.10"
  }
 },
 "nbformat": 4,
 "nbformat_minor": 5
}
